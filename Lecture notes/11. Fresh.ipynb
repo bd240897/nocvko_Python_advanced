{
 "cells": [
  {
   "cell_type": "markdown",
   "metadata": {},
   "source": [
    "# Новые возможности Python 3.7-3.9\n",
    "\n",
    "## Python 3.7\n",
    "\n",
    "### Классы данных (3.7)\n",
    "\n",
    "https://habr.com/ru/post/415829/\n",
    "\n",
    "Часто в конструкторе класса можно наблюдать следующую ситуацию:"
   ]
  },
  {
   "cell_type": "code",
   "execution_count": 15,
   "metadata": {},
   "outputs": [],
   "source": [
    "class SomeThing:\n",
    "    def __init__(self, value1, value2):\n",
    "        self.value1 = value1\n",
    "        self.value2 = value2"
   ]
  },
  {
   "cell_type": "markdown",
   "metadata": {},
   "source": [
    "В Python 3.7 появились классы данных, в которых не нужно писать все эти однотипные присвоения. Они задаются декоратором `@dataclass`"
   ]
  },
  {
   "cell_type": "code",
   "execution_count": 16,
   "metadata": {},
   "outputs": [
    {
     "data": {
      "text/plain": [
       "(1, 'abc')"
      ]
     },
     "execution_count": 16,
     "metadata": {},
     "output_type": "execute_result"
    }
   ],
   "source": [
    "from dataclasses import dataclass\n",
    "\n",
    "@dataclass\n",
    "class SomeThing:\n",
    "    value1: int\n",
    "    value2: str\n",
    "        \n",
    "\n",
    "s = SomeThing(1, \"abc\")\n",
    "s.value1, s.value2"
   ]
  },
  {
   "cell_type": "code",
   "execution_count": 17,
   "metadata": {},
   "outputs": [
    {
     "ename": "AttributeError",
     "evalue": "type object 'SomeThing' has no attribute 'value1'",
     "output_type": "error",
     "traceback": [
      "\u001b[1;31m---------------------------------------------------------------------------\u001b[0m",
      "\u001b[1;31mAttributeError\u001b[0m                            Traceback (most recent call last)",
      "\u001b[1;32m<ipython-input-17-3a7fd11d7514>\u001b[0m in \u001b[0;36m<module>\u001b[1;34m\u001b[0m\n\u001b[1;32m----> 1\u001b[1;33m \u001b[0mSomeThing\u001b[0m\u001b[1;33m.\u001b[0m\u001b[0mvalue1\u001b[0m\u001b[1;33m\u001b[0m\u001b[1;33m\u001b[0m\u001b[0m\n\u001b[0m",
      "\u001b[1;31mAttributeError\u001b[0m: type object 'SomeThing' has no attribute 'value1'"
     ]
    }
   ],
   "source": [
    "SomeThing.value1"
   ]
  },
  {
   "cell_type": "markdown",
   "metadata": {},
   "source": [
    "Аннотации типов обязательны, иначе поля игнорируются декоратором"
   ]
  },
  {
   "cell_type": "code",
   "execution_count": 19,
   "metadata": {},
   "outputs": [
    {
     "ename": "AttributeError",
     "evalue": "'SomeThing' object has no attribute 'value3'",
     "output_type": "error",
     "traceback": [
      "\u001b[1;31m---------------------------------------------------------------------------\u001b[0m",
      "\u001b[1;31mAttributeError\u001b[0m                            Traceback (most recent call last)",
      "\u001b[1;32m<ipython-input-19-d8b131333f4f>\u001b[0m in \u001b[0;36m<module>\u001b[1;34m\u001b[0m\n\u001b[0;32m      9\u001b[0m \u001b[1;33m\u001b[0m\u001b[0m\n\u001b[0;32m     10\u001b[0m \u001b[0ms\u001b[0m \u001b[1;33m=\u001b[0m \u001b[0mSomeThing\u001b[0m\u001b[1;33m(\u001b[0m\u001b[1;36m1\u001b[0m\u001b[1;33m,\u001b[0m \u001b[1;34m\"abc\"\u001b[0m\u001b[1;33m)\u001b[0m\u001b[1;33m\u001b[0m\u001b[1;33m\u001b[0m\u001b[0m\n\u001b[1;32m---> 11\u001b[1;33m \u001b[0ms\u001b[0m\u001b[1;33m.\u001b[0m\u001b[0mvalue1\u001b[0m\u001b[1;33m,\u001b[0m \u001b[0ms\u001b[0m\u001b[1;33m.\u001b[0m\u001b[0mvalue2\u001b[0m\u001b[1;33m,\u001b[0m \u001b[0ms\u001b[0m\u001b[1;33m.\u001b[0m\u001b[0mvalue3\u001b[0m\u001b[1;33m\u001b[0m\u001b[1;33m\u001b[0m\u001b[0m\n\u001b[0m",
      "\u001b[1;31mAttributeError\u001b[0m: 'SomeThing' object has no attribute 'value3'"
     ]
    }
   ],
   "source": [
    "value3 = 5\n",
    "\n",
    "@dataclass\n",
    "class SomeThing:\n",
    "    value1: int\n",
    "    value2: str\n",
    "    value3\n",
    "        \n",
    "\n",
    "s = SomeThing(1, \"abc\")\n",
    "s.value1, s.value2, s.value3"
   ]
  },
  {
   "cell_type": "markdown",
   "metadata": {},
   "source": [
    "### make_dataclass\n",
    "\n",
    "Библиотека dataclass предоставляет функцию, которая позволяет создавать класс данных следующим образом:"
   ]
  },
  {
   "cell_type": "code",
   "execution_count": 20,
   "metadata": {},
   "outputs": [
    {
     "data": {
      "text/plain": [
       "(1, 'abc')"
      ]
     },
     "execution_count": 20,
     "metadata": {},
     "output_type": "execute_result"
    }
   ],
   "source": [
    "from dataclasses import make_dataclass\n",
    "\n",
    "SomeThing = make_dataclass(\"SomeThing\", [\"value1\", \"value2\"])\n",
    "s = SomeThing(1, \"abc\")\n",
    "s.value1, s.value2"
   ]
  },
  {
   "cell_type": "markdown",
   "metadata": {},
   "source": [
    "### Значения по умолчанию\n",
    "\n",
    "В синтаксисе датакласса можно указать значения по умолчанию:"
   ]
  },
  {
   "cell_type": "code",
   "execution_count": 21,
   "metadata": {},
   "outputs": [
    {
     "name": "stdout",
     "output_type": "stream",
     "text": [
      "45 abc\n",
      "1 abcde\n"
     ]
    }
   ],
   "source": [
    "@dataclass\n",
    "class SomeThing:\n",
    "    value1: int = 1\n",
    "    value2: str = \"abc\"\n",
    "        \n",
    "a = SomeThing(45)\n",
    "b = SomeThing(value2=\"abcde\")\n",
    "\n",
    "print(a.value1, a.value2)\n",
    "print(b.value1, b.value2)"
   ]
  },
  {
   "cell_type": "code",
   "execution_count": 22,
   "metadata": {},
   "outputs": [
    {
     "data": {
      "text/plain": [
       "1"
      ]
     },
     "execution_count": 22,
     "metadata": {},
     "output_type": "execute_result"
    }
   ],
   "source": [
    "SomeThing.value1"
   ]
  },
  {
   "cell_type": "markdown",
   "metadata": {},
   "source": [
    "Но надо помнить о том, что аргументы по умолчанию всегда должны следовать после всех позиционных аргументов. Это касается и конструктора, генерируемого декоратором dataclass."
   ]
  },
  {
   "cell_type": "code",
   "execution_count": 23,
   "metadata": {},
   "outputs": [
    {
     "ename": "TypeError",
     "evalue": "non-default argument 'value2' follows default argument",
     "output_type": "error",
     "traceback": [
      "\u001b[1;31m---------------------------------------------------------------------------\u001b[0m",
      "\u001b[1;31mTypeError\u001b[0m                                 Traceback (most recent call last)",
      "\u001b[1;32m<ipython-input-23-2ae1f4d74127>\u001b[0m in \u001b[0;36m<module>\u001b[1;34m\u001b[0m\n\u001b[0;32m      1\u001b[0m \u001b[1;33m@\u001b[0m\u001b[0mdataclass\u001b[0m\u001b[1;33m\u001b[0m\u001b[1;33m\u001b[0m\u001b[0m\n\u001b[1;32m----> 2\u001b[1;33m \u001b[1;32mclass\u001b[0m \u001b[0mSomeThing\u001b[0m\u001b[1;33m:\u001b[0m\u001b[1;33m\u001b[0m\u001b[1;33m\u001b[0m\u001b[0m\n\u001b[0m\u001b[0;32m      3\u001b[0m     \u001b[0mvalue1\u001b[0m\u001b[1;33m:\u001b[0m \u001b[0mint\u001b[0m \u001b[1;33m=\u001b[0m \u001b[1;36m1\u001b[0m\u001b[1;33m\u001b[0m\u001b[1;33m\u001b[0m\u001b[0m\n\u001b[0;32m      4\u001b[0m     \u001b[0mvalue2\u001b[0m\u001b[1;33m:\u001b[0m \u001b[0mstr\u001b[0m\u001b[1;33m\u001b[0m\u001b[1;33m\u001b[0m\u001b[0m\n\u001b[0;32m      5\u001b[0m \u001b[1;33m\u001b[0m\u001b[0m\n",
      "\u001b[1;32m~\\AppData\\Local\\Programs\\Python\\Python39\\lib\\dataclasses.py\u001b[0m in \u001b[0;36mdataclass\u001b[1;34m(cls, init, repr, eq, order, unsafe_hash, frozen)\u001b[0m\n\u001b[0;32m   1019\u001b[0m \u001b[1;33m\u001b[0m\u001b[0m\n\u001b[0;32m   1020\u001b[0m     \u001b[1;31m# We're called as @dataclass without parens.\u001b[0m\u001b[1;33m\u001b[0m\u001b[1;33m\u001b[0m\u001b[1;33m\u001b[0m\u001b[0m\n\u001b[1;32m-> 1021\u001b[1;33m     \u001b[1;32mreturn\u001b[0m \u001b[0mwrap\u001b[0m\u001b[1;33m(\u001b[0m\u001b[0mcls\u001b[0m\u001b[1;33m)\u001b[0m\u001b[1;33m\u001b[0m\u001b[1;33m\u001b[0m\u001b[0m\n\u001b[0m\u001b[0;32m   1022\u001b[0m \u001b[1;33m\u001b[0m\u001b[0m\n\u001b[0;32m   1023\u001b[0m \u001b[1;33m\u001b[0m\u001b[0m\n",
      "\u001b[1;32m~\\AppData\\Local\\Programs\\Python\\Python39\\lib\\dataclasses.py\u001b[0m in \u001b[0;36mwrap\u001b[1;34m(cls)\u001b[0m\n\u001b[0;32m   1011\u001b[0m \u001b[1;33m\u001b[0m\u001b[0m\n\u001b[0;32m   1012\u001b[0m     \u001b[1;32mdef\u001b[0m \u001b[0mwrap\u001b[0m\u001b[1;33m(\u001b[0m\u001b[0mcls\u001b[0m\u001b[1;33m)\u001b[0m\u001b[1;33m:\u001b[0m\u001b[1;33m\u001b[0m\u001b[1;33m\u001b[0m\u001b[0m\n\u001b[1;32m-> 1013\u001b[1;33m         \u001b[1;32mreturn\u001b[0m \u001b[0m_process_class\u001b[0m\u001b[1;33m(\u001b[0m\u001b[0mcls\u001b[0m\u001b[1;33m,\u001b[0m \u001b[0minit\u001b[0m\u001b[1;33m,\u001b[0m \u001b[0mrepr\u001b[0m\u001b[1;33m,\u001b[0m \u001b[0meq\u001b[0m\u001b[1;33m,\u001b[0m \u001b[0morder\u001b[0m\u001b[1;33m,\u001b[0m \u001b[0munsafe_hash\u001b[0m\u001b[1;33m,\u001b[0m \u001b[0mfrozen\u001b[0m\u001b[1;33m)\u001b[0m\u001b[1;33m\u001b[0m\u001b[1;33m\u001b[0m\u001b[0m\n\u001b[0m\u001b[0;32m   1014\u001b[0m \u001b[1;33m\u001b[0m\u001b[0m\n\u001b[0;32m   1015\u001b[0m     \u001b[1;31m# See if we're being called as @dataclass or @dataclass().\u001b[0m\u001b[1;33m\u001b[0m\u001b[1;33m\u001b[0m\u001b[1;33m\u001b[0m\u001b[0m\n",
      "\u001b[1;32m~\\AppData\\Local\\Programs\\Python\\Python39\\lib\\dataclasses.py\u001b[0m in \u001b[0;36m_process_class\u001b[1;34m(cls, init, repr, eq, order, unsafe_hash, frozen)\u001b[0m\n\u001b[0;32m    925\u001b[0m                 if f._field_type in (_FIELD, _FIELD_INITVAR)]\n\u001b[0;32m    926\u001b[0m         _set_new_attribute(cls, '__init__',\n\u001b[1;32m--> 927\u001b[1;33m                            _init_fn(flds,\n\u001b[0m\u001b[0;32m    928\u001b[0m                                     \u001b[0mfrozen\u001b[0m\u001b[1;33m,\u001b[0m\u001b[1;33m\u001b[0m\u001b[1;33m\u001b[0m\u001b[0m\n\u001b[0;32m    929\u001b[0m                                     \u001b[0mhas_post_init\u001b[0m\u001b[1;33m,\u001b[0m\u001b[1;33m\u001b[0m\u001b[1;33m\u001b[0m\u001b[0m\n",
      "\u001b[1;32m~\\AppData\\Local\\Programs\\Python\\Python39\\lib\\dataclasses.py\u001b[0m in \u001b[0;36m_init_fn\u001b[1;34m(fields, frozen, has_post_init, self_name, globals)\u001b[0m\n\u001b[0;32m    502\u001b[0m                 \u001b[0mseen_default\u001b[0m \u001b[1;33m=\u001b[0m \u001b[1;32mTrue\u001b[0m\u001b[1;33m\u001b[0m\u001b[1;33m\u001b[0m\u001b[0m\n\u001b[0;32m    503\u001b[0m             \u001b[1;32melif\u001b[0m \u001b[0mseen_default\u001b[0m\u001b[1;33m:\u001b[0m\u001b[1;33m\u001b[0m\u001b[1;33m\u001b[0m\u001b[0m\n\u001b[1;32m--> 504\u001b[1;33m                 raise TypeError(f'non-default argument {f.name!r} '\n\u001b[0m\u001b[0;32m    505\u001b[0m                                 'follows default argument')\n\u001b[0;32m    506\u001b[0m \u001b[1;33m\u001b[0m\u001b[0m\n",
      "\u001b[1;31mTypeError\u001b[0m: non-default argument 'value2' follows default argument"
     ]
    }
   ],
   "source": [
    "@dataclass\n",
    "class SomeThing:\n",
    "    value1: int = 1\n",
    "    value2: str\n",
    "        \n",
    "a = SomeThing(45)\n",
    "b = SomeThing(value2=\"abcde\")\n",
    "\n",
    "print(a.value1, a.value2)\n",
    "print(b.value1, b.value2)"
   ]
  },
  {
   "cell_type": "markdown",
   "metadata": {},
   "source": [
    "### Frozen Data Class\n",
    "\n",
    "Отличный способ, чтобы хранить константы: объекты датаклассов, созданных таким образом, неизменяемы."
   ]
  },
  {
   "cell_type": "code",
   "execution_count": 24,
   "metadata": {},
   "outputs": [
    {
     "ename": "FrozenInstanceError",
     "evalue": "cannot assign to field 'value2'",
     "output_type": "error",
     "traceback": [
      "\u001b[1;31m---------------------------------------------------------------------------\u001b[0m",
      "\u001b[1;31mFrozenInstanceError\u001b[0m                       Traceback (most recent call last)",
      "\u001b[1;32m<ipython-input-24-afba7f7a0cc2>\u001b[0m in \u001b[0;36m<module>\u001b[1;34m\u001b[0m\n\u001b[0;32m      6\u001b[0m \u001b[1;33m\u001b[0m\u001b[0m\n\u001b[0;32m      7\u001b[0m \u001b[0ms\u001b[0m \u001b[1;33m=\u001b[0m \u001b[0mSomeThing\u001b[0m\u001b[1;33m(\u001b[0m\u001b[0mvalue1\u001b[0m\u001b[1;33m=\u001b[0m\u001b[1;36m256\u001b[0m\u001b[1;33m,\u001b[0m \u001b[0mvalue2\u001b[0m\u001b[1;33m=\u001b[0m\u001b[1;34m\"abc\"\u001b[0m\u001b[1;33m)\u001b[0m\u001b[1;33m\u001b[0m\u001b[1;33m\u001b[0m\u001b[0m\n\u001b[1;32m----> 8\u001b[1;33m \u001b[0ms\u001b[0m\u001b[1;33m.\u001b[0m\u001b[0mvalue2\u001b[0m \u001b[1;33m=\u001b[0m \u001b[1;34m\"abcde\"\u001b[0m\u001b[1;33m\u001b[0m\u001b[1;33m\u001b[0m\u001b[0m\n\u001b[0m",
      "\u001b[1;32m<string>\u001b[0m in \u001b[0;36m__setattr__\u001b[1;34m(self, name, value)\u001b[0m\n",
      "\u001b[1;31mFrozenInstanceError\u001b[0m: cannot assign to field 'value2'"
     ]
    }
   ],
   "source": [
    "@dataclass(frozen=True)\n",
    "class SomeThing:\n",
    "    value1: int\n",
    "    value2: str\n",
    "        \n",
    "        \n",
    "s = SomeThing(value1=256, value2=\"abc\")\n",
    "s.value2 = \"abcde\""
   ]
  },
  {
   "cell_type": "code",
   "execution_count": 25,
   "metadata": {},
   "outputs": [
    {
     "ename": "FrozenInstanceError",
     "evalue": "cannot assign to field 'value3'",
     "output_type": "error",
     "traceback": [
      "\u001b[1;31m---------------------------------------------------------------------------\u001b[0m",
      "\u001b[1;31mFrozenInstanceError\u001b[0m                       Traceback (most recent call last)",
      "\u001b[1;32m<ipython-input-25-3a3c5061a75b>\u001b[0m in \u001b[0;36m<module>\u001b[1;34m\u001b[0m\n\u001b[1;32m----> 1\u001b[1;33m \u001b[0ms\u001b[0m\u001b[1;33m.\u001b[0m\u001b[0mvalue3\u001b[0m \u001b[1;33m=\u001b[0m \u001b[1;36m2\u001b[0m\u001b[1;33m\u001b[0m\u001b[1;33m\u001b[0m\u001b[0m\n\u001b[0m",
      "\u001b[1;32m<string>\u001b[0m in \u001b[0;36m__setattr__\u001b[1;34m(self, name, value)\u001b[0m\n",
      "\u001b[1;31mFrozenInstanceError\u001b[0m: cannot assign to field 'value3'"
     ]
    }
   ],
   "source": [
    "s.value3 = 2"
   ]
  },
  {
   "cell_type": "markdown",
   "metadata": {},
   "source": [
    "### Параметры класса данных\n",
    "\n",
    "- `init: bool = True` - создать или не создать конструктор\n",
    "- `repr: bool = True` - создать или не создать `__repr__`\n",
    "- `eq: bool = True` - создать или не создать метод `__eq__`\n",
    "- `order: bool = False` - создать или не создать методы сравнения объектов\n",
    "- `unsafe_hash: bool: False` - создать или не создать метод `__hash__`. Само создание метода зависит также от параметров `eq` и `frozen`\n",
    "- `frozen: bool = False` - запрет изменения атрибутов класса\n",
    "\n",
    "Посмотрим, что из себя представляют `__eq__`, `__lt__` и остальные, сгенерированные автоматически"
   ]
  },
  {
   "cell_type": "code",
   "execution_count": 26,
   "metadata": {},
   "outputs": [
    {
     "data": {
      "text/plain": [
       "True"
      ]
     },
     "execution_count": 26,
     "metadata": {},
     "output_type": "execute_result"
    }
   ],
   "source": [
    "@dataclass(eq=True, order=True, unsafe_hash=True)\n",
    "class SomeThing:\n",
    "    value1: int\n",
    "    value2: str\n",
    "\n",
    "SomeThing(1, 2) == SomeThing(1, 2)"
   ]
  },
  {
   "cell_type": "code",
   "execution_count": 27,
   "metadata": {},
   "outputs": [
    {
     "data": {
      "text/plain": [
       "False"
      ]
     },
     "execution_count": 27,
     "metadata": {},
     "output_type": "execute_result"
    }
   ],
   "source": [
    "SomeThing(1, 2) > SomeThing(2, 1)"
   ]
  },
  {
   "cell_type": "code",
   "execution_count": 28,
   "metadata": {},
   "outputs": [
    {
     "data": {
      "text/plain": [
       "True"
      ]
     },
     "execution_count": 28,
     "metadata": {},
     "output_type": "execute_result"
    }
   ],
   "source": [
    "SomeThing(1, 2) < SomeThing(2, 1)"
   ]
  },
  {
   "cell_type": "markdown",
   "metadata": {},
   "source": [
    "По умолчанию у таких классов сравниваются кортежи значений в том порядке, в котором они были изначально заданы. Посмотреть OrderedDict параметров можно через поле `__dataclass_fields__`"
   ]
  },
  {
   "cell_type": "code",
   "execution_count": 29,
   "metadata": {},
   "outputs": [
    {
     "data": {
      "text/plain": [
       "{'value1': Field(name='value1',type=<class 'int'>,default=<dataclasses._MISSING_TYPE object at 0x0000024BD6617460>,default_factory=<dataclasses._MISSING_TYPE object at 0x0000024BD6617460>,init=True,repr=True,hash=None,compare=True,metadata=mappingproxy({}),_field_type=_FIELD),\n",
       " 'value2': Field(name='value2',type=<class 'str'>,default=<dataclasses._MISSING_TYPE object at 0x0000024BD6617460>,default_factory=<dataclasses._MISSING_TYPE object at 0x0000024BD6617460>,init=True,repr=True,hash=None,compare=True,metadata=mappingproxy({}),_field_type=_FIELD)}"
      ]
     },
     "execution_count": 29,
     "metadata": {},
     "output_type": "execute_result"
    }
   ],
   "source": [
    "SomeThing(100, \"abc\").__dataclass_fields__"
   ]
  },
  {
   "cell_type": "markdown",
   "metadata": {},
   "source": [
    "А что с хешами?"
   ]
  },
  {
   "cell_type": "code",
   "execution_count": 30,
   "metadata": {},
   "outputs": [
    {
     "name": "stdout",
     "output_type": "stream",
     "text": [
      "True\n",
      "False\n"
     ]
    }
   ],
   "source": [
    "@dataclass(eq=True, unsafe_hash=True)\n",
    "class SomeThing:\n",
    "    value1: int\n",
    "    value2: str\n",
    "\n",
    "\n",
    "print(hash(SomeThing(1, 2)) == hash(SomeThing(1, 2)))\n",
    "print(hash(SomeThing(1, 2)) == hash(SomeThing(2, 2)))"
   ]
  },
  {
   "cell_type": "code",
   "execution_count": 33,
   "metadata": {},
   "outputs": [
    {
     "name": "stdout",
     "output_type": "stream",
     "text": [
      "True\n",
      "False\n"
     ]
    }
   ],
   "source": [
    "@dataclass(eq=False, unsafe_hash=True)\n",
    "class SomeThing:\n",
    "    value1: int\n",
    "    value2: str\n",
    "\n",
    "\n",
    "print(hash(SomeThing(1, 2)) == hash(SomeThing(1, 2)))\n",
    "print(hash(SomeThing(1, 2)) == hash(SomeThing(2, 2)))"
   ]
  },
  {
   "cell_type": "code",
   "execution_count": 34,
   "metadata": {},
   "outputs": [
    {
     "name": "stdout",
     "output_type": "stream",
     "text": [
      "True\n",
      "False\n"
     ]
    }
   ],
   "source": [
    "@dataclass(frozen=True, eq=True, unsafe_hash=True)\n",
    "class SomeThing:\n",
    "    value1: int\n",
    "    value2: str\n",
    "\n",
    "\n",
    "print(hash(SomeThing(1, 2)) == hash(SomeThing(1, 2)))\n",
    "print(hash(SomeThing(1, 2)) == hash(SomeThing(2, 2)))"
   ]
  },
  {
   "cell_type": "code",
   "execution_count": 35,
   "metadata": {},
   "outputs": [
    {
     "name": "stdout",
     "output_type": "stream",
     "text": [
      "True\n",
      "False\n"
     ]
    }
   ],
   "source": [
    "@dataclass(frozen=True, eq=False, unsafe_hash=True)\n",
    "class SomeThing:\n",
    "    value1: int\n",
    "    value2: str\n",
    "\n",
    "\n",
    "print(hash(SomeThing(1, 2)) == hash(SomeThing(1, 2)))\n",
    "print(hash(SomeThing(1, 2)) == hash(SomeThing(2, 2)))"
   ]
  },
  {
   "cell_type": "code",
   "execution_count": 40,
   "metadata": {
    "scrolled": true
   },
   "outputs": [
    {
     "name": "stdout",
     "output_type": "stream",
     "text": [
      "True\n",
      "True\n"
     ]
    }
   ],
   "source": [
    "@dataclass(frozen=True, eq=False)\n",
    "class SomeThing:\n",
    "    value1: int\n",
    "    value2: str\n",
    "\n",
    "\n",
    "print(hash(SomeThing(1, 2)) == hash(SomeThing(1, 2)))\n",
    "print(hash(SomeThing(1, 2)) == hash(SomeThing(2, 2)))"
   ]
  },
  {
   "cell_type": "code",
   "execution_count": 41,
   "metadata": {},
   "outputs": [
    {
     "name": "stdout",
     "output_type": "stream",
     "text": [
      "True\n",
      "True\n"
     ]
    }
   ],
   "source": [
    "@dataclass(frozen=False, eq=False, unsafe_hash=False)\n",
    "class SomeThing:\n",
    "    value1: int\n",
    "    value2: str\n",
    "\n",
    "\n",
    "print(hash(SomeThing(1, 2)) == hash(SomeThing(1, 2)))\n",
    "print(hash(SomeThing(1, 2)) == hash(SomeThing(2, 2)))"
   ]
  },
  {
   "cell_type": "code",
   "execution_count": 42,
   "metadata": {},
   "outputs": [
    {
     "ename": "TypeError",
     "evalue": "unhashable type: 'SomeThing'",
     "output_type": "error",
     "traceback": [
      "\u001b[1;31m---------------------------------------------------------------------------\u001b[0m",
      "\u001b[1;31mTypeError\u001b[0m                                 Traceback (most recent call last)",
      "\u001b[1;32m<ipython-input-42-f582163d789c>\u001b[0m in \u001b[0;36m<module>\u001b[1;34m\u001b[0m\n\u001b[0;32m      5\u001b[0m \u001b[1;33m\u001b[0m\u001b[0m\n\u001b[0;32m      6\u001b[0m \u001b[1;33m\u001b[0m\u001b[0m\n\u001b[1;32m----> 7\u001b[1;33m \u001b[0mprint\u001b[0m\u001b[1;33m(\u001b[0m\u001b[0mhash\u001b[0m\u001b[1;33m(\u001b[0m\u001b[0mSomeThing\u001b[0m\u001b[1;33m(\u001b[0m\u001b[1;36m1\u001b[0m\u001b[1;33m,\u001b[0m \u001b[1;36m2\u001b[0m\u001b[1;33m)\u001b[0m\u001b[1;33m)\u001b[0m \u001b[1;33m==\u001b[0m \u001b[0mhash\u001b[0m\u001b[1;33m(\u001b[0m\u001b[0mSomeThing\u001b[0m\u001b[1;33m(\u001b[0m\u001b[1;36m1\u001b[0m\u001b[1;33m,\u001b[0m \u001b[1;36m2\u001b[0m\u001b[1;33m)\u001b[0m\u001b[1;33m)\u001b[0m\u001b[1;33m)\u001b[0m\u001b[1;33m\u001b[0m\u001b[1;33m\u001b[0m\u001b[0m\n\u001b[0m\u001b[0;32m      8\u001b[0m \u001b[0mprint\u001b[0m\u001b[1;33m(\u001b[0m\u001b[0mhash\u001b[0m\u001b[1;33m(\u001b[0m\u001b[0mSomeThing\u001b[0m\u001b[1;33m(\u001b[0m\u001b[1;36m1\u001b[0m\u001b[1;33m,\u001b[0m \u001b[1;36m2\u001b[0m\u001b[1;33m)\u001b[0m\u001b[1;33m)\u001b[0m \u001b[1;33m==\u001b[0m \u001b[0mhash\u001b[0m\u001b[1;33m(\u001b[0m\u001b[0mSomeThing\u001b[0m\u001b[1;33m(\u001b[0m\u001b[1;36m2\u001b[0m\u001b[1;33m,\u001b[0m \u001b[1;36m2\u001b[0m\u001b[1;33m)\u001b[0m\u001b[1;33m)\u001b[0m\u001b[1;33m)\u001b[0m\u001b[1;33m\u001b[0m\u001b[1;33m\u001b[0m\u001b[0m\n",
      "\u001b[1;31mTypeError\u001b[0m: unhashable type: 'SomeThing'"
     ]
    }
   ],
   "source": [
    "@dataclass(frozen=False, eq=True, unsafe_hash=False)\n",
    "class SomeThing:\n",
    "    value1: int\n",
    "    value2: str\n",
    "\n",
    "\n",
    "print(hash(SomeThing(1, 2)) == hash(SomeThing(1, 2)))\n",
    "print(hash(SomeThing(1, 2)) == hash(SomeThing(2, 2)))"
   ]
  },
  {
   "cell_type": "code",
   "execution_count": 43,
   "metadata": {},
   "outputs": [
    {
     "name": "stdout",
     "output_type": "stream",
     "text": [
      "True\n",
      "False\n"
     ]
    }
   ],
   "source": [
    "@dataclass(frozen=True, eq=True, unsafe_hash=False)\n",
    "class SomeThing:\n",
    "    value1: int\n",
    "    value2: str\n",
    "\n",
    "\n",
    "print(hash(SomeThing(1, 2)) == hash(SomeThing(1, 2)))\n",
    "print(hash(SomeThing(1, 2)) == hash(SomeThing(2, 2)))"
   ]
  },
  {
   "cell_type": "markdown",
   "metadata": {},
   "source": [
    "### Изменяемые значения по умолчанию\n",
    "\n",
    "Как мы знаем, использовать изменяемые объекты в качестве значений по умолчанию - плохая идея, поскольку они инстанцируются только один раз при объявлении функции. Dataclass это учитывает:"
   ]
  },
  {
   "cell_type": "code",
   "execution_count": 44,
   "metadata": {},
   "outputs": [
    {
     "ename": "ValueError",
     "evalue": "mutable default <class 'list'> for field value is not allowed: use default_factory",
     "output_type": "error",
     "traceback": [
      "\u001b[1;31m---------------------------------------------------------------------------\u001b[0m",
      "\u001b[1;31mValueError\u001b[0m                                Traceback (most recent call last)",
      "\u001b[1;32m<ipython-input-44-21ad61fb899c>\u001b[0m in \u001b[0;36m<module>\u001b[1;34m\u001b[0m\n\u001b[0;32m      2\u001b[0m \u001b[1;33m\u001b[0m\u001b[0m\n\u001b[0;32m      3\u001b[0m \u001b[1;33m@\u001b[0m\u001b[0mdataclass\u001b[0m\u001b[1;33m\u001b[0m\u001b[1;33m\u001b[0m\u001b[0m\n\u001b[1;32m----> 4\u001b[1;33m \u001b[1;32mclass\u001b[0m \u001b[0mSomeThing\u001b[0m\u001b[1;33m:\u001b[0m\u001b[1;33m\u001b[0m\u001b[1;33m\u001b[0m\u001b[0m\n\u001b[0m\u001b[0;32m      5\u001b[0m     \u001b[0mvalue\u001b[0m\u001b[1;33m:\u001b[0m \u001b[0mList\u001b[0m\u001b[1;33m[\u001b[0m\u001b[0mint\u001b[0m\u001b[1;33m]\u001b[0m \u001b[1;33m=\u001b[0m \u001b[1;33m[\u001b[0m\u001b[1;33m]\u001b[0m\u001b[1;33m\u001b[0m\u001b[1;33m\u001b[0m\u001b[0m\n",
      "\u001b[1;32m~\\AppData\\Local\\Programs\\Python\\Python39\\lib\\dataclasses.py\u001b[0m in \u001b[0;36mdataclass\u001b[1;34m(cls, init, repr, eq, order, unsafe_hash, frozen)\u001b[0m\n\u001b[0;32m   1019\u001b[0m \u001b[1;33m\u001b[0m\u001b[0m\n\u001b[0;32m   1020\u001b[0m     \u001b[1;31m# We're called as @dataclass without parens.\u001b[0m\u001b[1;33m\u001b[0m\u001b[1;33m\u001b[0m\u001b[1;33m\u001b[0m\u001b[0m\n\u001b[1;32m-> 1021\u001b[1;33m     \u001b[1;32mreturn\u001b[0m \u001b[0mwrap\u001b[0m\u001b[1;33m(\u001b[0m\u001b[0mcls\u001b[0m\u001b[1;33m)\u001b[0m\u001b[1;33m\u001b[0m\u001b[1;33m\u001b[0m\u001b[0m\n\u001b[0m\u001b[0;32m   1022\u001b[0m \u001b[1;33m\u001b[0m\u001b[0m\n\u001b[0;32m   1023\u001b[0m \u001b[1;33m\u001b[0m\u001b[0m\n",
      "\u001b[1;32m~\\AppData\\Local\\Programs\\Python\\Python39\\lib\\dataclasses.py\u001b[0m in \u001b[0;36mwrap\u001b[1;34m(cls)\u001b[0m\n\u001b[0;32m   1011\u001b[0m \u001b[1;33m\u001b[0m\u001b[0m\n\u001b[0;32m   1012\u001b[0m     \u001b[1;32mdef\u001b[0m \u001b[0mwrap\u001b[0m\u001b[1;33m(\u001b[0m\u001b[0mcls\u001b[0m\u001b[1;33m)\u001b[0m\u001b[1;33m:\u001b[0m\u001b[1;33m\u001b[0m\u001b[1;33m\u001b[0m\u001b[0m\n\u001b[1;32m-> 1013\u001b[1;33m         \u001b[1;32mreturn\u001b[0m \u001b[0m_process_class\u001b[0m\u001b[1;33m(\u001b[0m\u001b[0mcls\u001b[0m\u001b[1;33m,\u001b[0m \u001b[0minit\u001b[0m\u001b[1;33m,\u001b[0m \u001b[0mrepr\u001b[0m\u001b[1;33m,\u001b[0m \u001b[0meq\u001b[0m\u001b[1;33m,\u001b[0m \u001b[0morder\u001b[0m\u001b[1;33m,\u001b[0m \u001b[0munsafe_hash\u001b[0m\u001b[1;33m,\u001b[0m \u001b[0mfrozen\u001b[0m\u001b[1;33m)\u001b[0m\u001b[1;33m\u001b[0m\u001b[1;33m\u001b[0m\u001b[0m\n\u001b[0m\u001b[0;32m   1014\u001b[0m \u001b[1;33m\u001b[0m\u001b[0m\n\u001b[0;32m   1015\u001b[0m     \u001b[1;31m# See if we're being called as @dataclass or @dataclass().\u001b[0m\u001b[1;33m\u001b[0m\u001b[1;33m\u001b[0m\u001b[1;33m\u001b[0m\u001b[0m\n",
      "\u001b[1;32m~\\AppData\\Local\\Programs\\Python\\Python39\\lib\\dataclasses.py\u001b[0m in \u001b[0;36m_process_class\u001b[1;34m(cls, init, repr, eq, order, unsafe_hash, frozen)\u001b[0m\n\u001b[0;32m    861\u001b[0m     \u001b[1;31m# things, and set the default values (as class attributes) where\u001b[0m\u001b[1;33m\u001b[0m\u001b[1;33m\u001b[0m\u001b[1;33m\u001b[0m\u001b[0m\n\u001b[0;32m    862\u001b[0m     \u001b[1;31m# we can.\u001b[0m\u001b[1;33m\u001b[0m\u001b[1;33m\u001b[0m\u001b[1;33m\u001b[0m\u001b[0m\n\u001b[1;32m--> 863\u001b[1;33m     cls_fields = [_get_field(cls, name, type)\n\u001b[0m\u001b[0;32m    864\u001b[0m                   for name, type in cls_annotations.items()]\n\u001b[0;32m    865\u001b[0m     \u001b[1;32mfor\u001b[0m \u001b[0mf\u001b[0m \u001b[1;32min\u001b[0m \u001b[0mcls_fields\u001b[0m\u001b[1;33m:\u001b[0m\u001b[1;33m\u001b[0m\u001b[1;33m\u001b[0m\u001b[0m\n",
      "\u001b[1;32m~\\AppData\\Local\\Programs\\Python\\Python39\\lib\\dataclasses.py\u001b[0m in \u001b[0;36m<listcomp>\u001b[1;34m(.0)\u001b[0m\n\u001b[0;32m    861\u001b[0m     \u001b[1;31m# things, and set the default values (as class attributes) where\u001b[0m\u001b[1;33m\u001b[0m\u001b[1;33m\u001b[0m\u001b[1;33m\u001b[0m\u001b[0m\n\u001b[0;32m    862\u001b[0m     \u001b[1;31m# we can.\u001b[0m\u001b[1;33m\u001b[0m\u001b[1;33m\u001b[0m\u001b[1;33m\u001b[0m\u001b[0m\n\u001b[1;32m--> 863\u001b[1;33m     cls_fields = [_get_field(cls, name, type)\n\u001b[0m\u001b[0;32m    864\u001b[0m                   for name, type in cls_annotations.items()]\n\u001b[0;32m    865\u001b[0m     \u001b[1;32mfor\u001b[0m \u001b[0mf\u001b[0m \u001b[1;32min\u001b[0m \u001b[0mcls_fields\u001b[0m\u001b[1;33m:\u001b[0m\u001b[1;33m\u001b[0m\u001b[1;33m\u001b[0m\u001b[0m\n",
      "\u001b[1;32m~\\AppData\\Local\\Programs\\Python\\Python39\\lib\\dataclasses.py\u001b[0m in \u001b[0;36m_get_field\u001b[1;34m(cls, a_name, a_type)\u001b[0m\n\u001b[0;32m    745\u001b[0m     \u001b[1;31m# For real fields, disallow mutable defaults for known types.\u001b[0m\u001b[1;33m\u001b[0m\u001b[1;33m\u001b[0m\u001b[1;33m\u001b[0m\u001b[0m\n\u001b[0;32m    746\u001b[0m     \u001b[1;32mif\u001b[0m \u001b[0mf\u001b[0m\u001b[1;33m.\u001b[0m\u001b[0m_field_type\u001b[0m \u001b[1;32mis\u001b[0m \u001b[0m_FIELD\u001b[0m \u001b[1;32mand\u001b[0m \u001b[0misinstance\u001b[0m\u001b[1;33m(\u001b[0m\u001b[0mf\u001b[0m\u001b[1;33m.\u001b[0m\u001b[0mdefault\u001b[0m\u001b[1;33m,\u001b[0m \u001b[1;33m(\u001b[0m\u001b[0mlist\u001b[0m\u001b[1;33m,\u001b[0m \u001b[0mdict\u001b[0m\u001b[1;33m,\u001b[0m \u001b[0mset\u001b[0m\u001b[1;33m)\u001b[0m\u001b[1;33m)\u001b[0m\u001b[1;33m:\u001b[0m\u001b[1;33m\u001b[0m\u001b[1;33m\u001b[0m\u001b[0m\n\u001b[1;32m--> 747\u001b[1;33m         raise ValueError(f'mutable default {type(f.default)} for field '\n\u001b[0m\u001b[0;32m    748\u001b[0m                          f'{f.name} is not allowed: use default_factory')\n\u001b[0;32m    749\u001b[0m \u001b[1;33m\u001b[0m\u001b[0m\n",
      "\u001b[1;31mValueError\u001b[0m: mutable default <class 'list'> for field value is not allowed: use default_factory"
     ]
    }
   ],
   "source": [
    "from typing import List\n",
    "\n",
    "@dataclass\n",
    "class SomeThing:\n",
    "    value: List[int] = []"
   ]
  },
  {
   "cell_type": "markdown",
   "metadata": {},
   "source": [
    "Библиотека предлагает использовать default_factory:"
   ]
  },
  {
   "cell_type": "code",
   "execution_count": 45,
   "metadata": {},
   "outputs": [
    {
     "data": {
      "text/plain": [
       "[]"
      ]
     },
     "execution_count": 45,
     "metadata": {},
     "output_type": "execute_result"
    }
   ],
   "source": [
    "from dataclasses import field\n",
    "\n",
    "@dataclass\n",
    "class SomeThing:\n",
    "    value: List[int] = field(default_factory=list)\n",
    "        \n",
    "SomeThing().value"
   ]
  },
  {
   "cell_type": "markdown",
   "metadata": {},
   "source": [
    "#### Параметры field\n",
    "- `default`: значение по умолчанию. Этот параметр необходим, так как вызов `field` заменяет задание значения поля по умолчанию\n",
    "- `init`: включает (задан по умолчанию) использование поля в методе `__init__`\n",
    "- `repr`: включает (задан по умолчанию) использование поля в методе `__repr__`\n",
    "- `compare`: включает (задан по умолчанию) использование поля в методах сравнения (`__eq__`, `__le__` и других)\n",
    "- `hash`: может быть булевое значение или None. Если он равен True, поле используется при вычислении хэша. Если указано None (по умолчанию) — используется значение параметра compare.\n",
    "Одной из причин указать `hash=False` при заданном `compare=True` может быть сложность вычисления хэша поля при том, что оно необходимо для сравнения.\n",
    "- `metadata`: произвольный словарь или None. Значение оборачивается в MappingProxyType, чтобы оно стало неизменяемым. Этот параметр не используется самими классами данных и предназначен для работы сторонних расширений.\n"
   ]
  },
  {
   "cell_type": "markdown",
   "metadata": {},
   "source": [
    "### Обработка после инициализации\n",
    "\n",
    "В классах данных автоматически создается метод `__init__`, в котором исплоняется код присвоения значений в поля объекта: `self.value = value`. Но что если мы хотим использовать датакласс, но дополнить конструктор какими-то еще действиями? Для этого можем задать метод `__post_init__`"
   ]
  },
  {
   "cell_type": "code",
   "execution_count": 46,
   "metadata": {},
   "outputs": [
    {
     "data": {
      "text/plain": [
       "'`Название` by Автор'"
      ]
     },
     "execution_count": 46,
     "metadata": {},
     "output_type": "execute_result"
    }
   ],
   "source": [
    "@dataclass\n",
    "class Book:\n",
    "    title: str\n",
    "    author: str\n",
    "    desc: str = None\n",
    "\n",
    "    def __post_init__(self):\n",
    "        self.desc = self.desc or \"`%s` by %s\" % (self.title, self.author)\n",
    "        \n",
    "        \n",
    "Book(\"Название\", \"Автор\").desc"
   ]
  },
  {
   "cell_type": "markdown",
   "metadata": {},
   "source": [
    "В этом методе можно использовать дополнительные аргументы конструктора, которые не нужно записывать в self. Для этого предназначен класс `dataclasses.InitVar`:"
   ]
  },
  {
   "cell_type": "code",
   "execution_count": 47,
   "metadata": {},
   "outputs": [
    {
     "name": "stdout",
     "output_type": "stream",
     "text": [
      "`Название` by Автор\n",
      "None\n"
     ]
    }
   ],
   "source": [
    "from dataclasses import InitVar\n",
    "\n",
    "@dataclass\n",
    "class Book:\n",
    "    title: str\n",
    "    author: str\n",
    "    gen_desc: InitVar[bool] = True\n",
    "    desc: str = None\n",
    "\n",
    "    def __post_init__(self, gen_desc: bool):\n",
    "        if gen_desc and self.desc is None:\n",
    "            self.desc = \"`%s` by %s\" % (self.title, self.author)\n",
    "            \n",
    "            \n",
    "print(Book(\"Название\", \"Автор\", True).desc)\n",
    "print(Book(\"Название\", \"Автор\", False).desc)"
   ]
  },
  {
   "cell_type": "markdown",
   "metadata": {},
   "source": [
    "### Наследование в датаклассах\n",
    "\n",
    "Если датакласс наследуется от другого датакласса, то он складывает OrderedDict'ы обоих классов и использует полученный общий OrderedDict во всех генерируемых методах."
   ]
  },
  {
   "cell_type": "code",
   "execution_count": 48,
   "metadata": {},
   "outputs": [
    {
     "data": {
      "text/plain": [
       "Book(title='Unknown', author=None, desc=None)"
      ]
     },
     "execution_count": 48,
     "metadata": {},
     "output_type": "execute_result"
    }
   ],
   "source": [
    "from typing import Any\n",
    "\n",
    "\n",
    "@dataclass\n",
    "class BaseBook:\n",
    "    title: Any = None\n",
    "    author: str = None\n",
    "\n",
    "@dataclass\n",
    "class Book(BaseBook):\n",
    "    desc: str = None\n",
    "    title: str = \"Unknown\"\n",
    "        \n",
    "        \n",
    "Book()"
   ]
  },
  {
   "cell_type": "code",
   "execution_count": 49,
   "metadata": {},
   "outputs": [
    {
     "data": {
      "text/plain": [
       "{'title': Field(name='title',type=<class 'str'>,default='Unknown',default_factory=<dataclasses._MISSING_TYPE object at 0x0000024BD6617460>,init=True,repr=True,hash=None,compare=True,metadata=mappingproxy({}),_field_type=_FIELD),\n",
       " 'author': Field(name='author',type=<class 'str'>,default=None,default_factory=<dataclasses._MISSING_TYPE object at 0x0000024BD6617460>,init=True,repr=True,hash=None,compare=True,metadata=mappingproxy({}),_field_type=_FIELD),\n",
       " 'desc': Field(name='desc',type=<class 'str'>,default=None,default_factory=<dataclasses._MISSING_TYPE object at 0x0000024BD6617460>,init=True,repr=True,hash=None,compare=True,metadata=mappingproxy({}),_field_type=_FIELD)}"
      ]
     },
     "execution_count": 49,
     "metadata": {},
     "output_type": "execute_result"
    }
   ],
   "source": [
    "Book().__dataclass_fields__"
   ]
  },
  {
   "cell_type": "markdown",
   "metadata": {},
   "source": [
    "# Новое в Python 3.8\n",
    "\n",
    "https://habr.com/ru/post/483276/\n",
    "\n",
    "## Моржовый оператор\n",
    "\n",
    "Оператор присваивания - как в паскале. Служит для улучшения читаемости кода."
   ]
  },
  {
   "cell_type": "code",
   "execution_count": 50,
   "metadata": {},
   "outputs": [
    {
     "name": "stdout",
     "output_type": "stream",
     "text": [
      "Квадрат 6 это 36.\n"
     ]
    }
   ],
   "source": [
    "a = 6\n",
    "\n",
    "# Код ниже присваивает b значение a ** 2\n",
    "# и проверяет, если b > 0\n",
    "if (b := a ** 2) > 0: \n",
    "    print(f'Квадрат {a} это {b}.') # Квадрат 6 это 36."
   ]
  },
  {
   "cell_type": "markdown",
   "metadata": {},
   "source": [
    "## Только позиционные аргументы\n",
    "\n",
    "Всё, что записано в сигнатуре функции до знака /, можно передавать только как позиционные аргументы. По имени - нельзя, будет ошибка."
   ]
  },
  {
   "cell_type": "code",
   "execution_count": 51,
   "metadata": {},
   "outputs": [
    {
     "ename": "TypeError",
     "evalue": "my_func() takes 4 positional arguments but 6 were given",
     "output_type": "error",
     "traceback": [
      "\u001b[1;31m---------------------------------------------------------------------------\u001b[0m",
      "\u001b[1;31mTypeError\u001b[0m                                 Traceback (most recent call last)",
      "\u001b[1;32m<ipython-input-51-84fdbe955034>\u001b[0m in \u001b[0;36m<module>\u001b[1;34m\u001b[0m\n\u001b[0;32m      2\u001b[0m     \u001b[1;32mreturn\u001b[0m \u001b[0ma\u001b[0m \u001b[1;33m+\u001b[0m \u001b[0mb\u001b[0m \u001b[1;33m+\u001b[0m \u001b[0mc\u001b[0m \u001b[1;33m+\u001b[0m \u001b[0md\u001b[0m \u001b[1;33m+\u001b[0m \u001b[0me\u001b[0m \u001b[1;33m+\u001b[0m \u001b[0mf\u001b[0m\u001b[1;33m\u001b[0m\u001b[1;33m\u001b[0m\u001b[0m\n\u001b[0;32m      3\u001b[0m \u001b[1;33m\u001b[0m\u001b[0m\n\u001b[1;32m----> 4\u001b[1;33m \u001b[0mmy_func\u001b[0m\u001b[1;33m(\u001b[0m\u001b[1;36m1\u001b[0m\u001b[1;33m,\u001b[0m \u001b[1;36m2\u001b[0m\u001b[1;33m,\u001b[0m \u001b[1;36m3\u001b[0m\u001b[1;33m,\u001b[0m \u001b[1;36m4\u001b[0m\u001b[1;33m,\u001b[0m \u001b[1;36m5\u001b[0m\u001b[1;33m,\u001b[0m \u001b[1;36m6\u001b[0m\u001b[1;33m)\u001b[0m         \u001b[1;31m# ошибка: e, f должны быть именованными\u001b[0m\u001b[1;33m\u001b[0m\u001b[1;33m\u001b[0m\u001b[0m\n\u001b[0m",
      "\u001b[1;31mTypeError\u001b[0m: my_func() takes 4 positional arguments but 6 were given"
     ]
    }
   ],
   "source": [
    "def my_func(a, b, /, c, d, *, e, f):\n",
    "    return a + b + c + d + e + f\n",
    "  \n",
    "my_func(1, 2, 3, 4, 5, 6)         # ошибка: e, f должны быть именованными"
   ]
  },
  {
   "cell_type": "code",
   "execution_count": 52,
   "metadata": {},
   "outputs": [
    {
     "ename": "SyntaxError",
     "evalue": "positional argument follows keyword argument (<ipython-input-52-302744cf128e>, line 1)",
     "output_type": "error",
     "traceback": [
      "\u001b[1;36m  File \u001b[1;32m\"<ipython-input-52-302744cf128e>\"\u001b[1;36m, line \u001b[1;32m1\u001b[0m\n\u001b[1;33m    my_func(a=1, b=2, 3, 4, e=5, f=6) # ошибка: a, b должны быть позиционными\u001b[0m\n\u001b[1;37m                                    ^\u001b[0m\n\u001b[1;31mSyntaxError\u001b[0m\u001b[1;31m:\u001b[0m positional argument follows keyword argument\n"
     ]
    }
   ],
   "source": [
    "my_func(a=1, b=2, 3, 4, e=5, f=6) # ошибка: a, b должны быть позиционными"
   ]
  },
  {
   "cell_type": "code",
   "execution_count": 54,
   "metadata": {},
   "outputs": [
    {
     "data": {
      "text/plain": [
       "21"
      ]
     },
     "execution_count": 54,
     "metadata": {},
     "output_type": "execute_result"
    }
   ],
   "source": [
    "my_func(1, 2, 3, d=4, e=5, f=6)   # returns 21"
   ]
  },
  {
   "cell_type": "code",
   "execution_count": 55,
   "metadata": {},
   "outputs": [
    {
     "data": {
      "text/plain": [
       "21"
      ]
     },
     "execution_count": 55,
     "metadata": {},
     "output_type": "execute_result"
    }
   ],
   "source": [
    "my_func(1, 2, c=3, d=4, e=5, f=6)  # returns 21"
   ]
  },
  {
   "cell_type": "markdown",
   "metadata": {},
   "source": [
    "## Улучшенный дебаг print'ом =)\n",
    "\n",
    "Новый синтаксис f-строк позволяет выводить сразу имя переменной и ее значение:"
   ]
  },
  {
   "cell_type": "code",
   "execution_count": 56,
   "metadata": {},
   "outputs": [
    {
     "name": "stdout",
     "output_type": "stream",
     "text": [
      "pi=3\n",
      "pi=3\n"
     ]
    }
   ],
   "source": [
    "pi = 3             # В рамках антиковидных ограничений может быть и так\n",
    "\n",
    "print(f'pi={pi}')  # так мы делали раньше\n",
    "print(f'{pi=}')    # а так можно делать теперь"
   ]
  },
  {
   "cell_type": "markdown",
   "metadata": {},
   "source": [
    "## reversed()\n",
    "\n",
    "теперь можно вызывать не только над объектами, в которых реализован метод `__reversed__`, но и над теми, в которых описаны `__len__` и `__getitem__`. В числе таких объектов - словари."
   ]
  },
  {
   "cell_type": "markdown",
   "metadata": {},
   "source": [
    "## Получение метаданных из других модулей\n",
    "\n",
    "Новый модуль importlib.metadata позволит получать метаданные (например, версию) из сторонних пакетов."
   ]
  },
  {
   "cell_type": "markdown",
   "metadata": {},
   "source": [
    "## Использование continue в блоке finally"
   ]
  },
  {
   "cell_type": "code",
   "execution_count": 57,
   "metadata": {},
   "outputs": [
    {
     "name": "stdout",
     "output_type": "stream",
     "text": [
      "0\n",
      "Тест.\n",
      "1\n",
      "Тест.\n"
     ]
    }
   ],
   "source": [
    "for i in range(2):\n",
    "    try:\n",
    "        print(i)\n",
    "    finally:\n",
    "        print('Тест.')\n",
    "        continue\n",
    "        print('Эту строку вы не увидите.')"
   ]
  },
  {
   "cell_type": "markdown",
   "metadata": {},
   "source": [
    "# Новое в Python 3.9\n",
    "- https://habr.com/ru/post/522170/\n",
    "- https://habr.com/ru/company/skillfactory/blog/507264/\n",
    "- https://webdevblog.ru/python-3-9-vse-chto-vam-nuzhno-znat/\n",
    "- https://proglib.io/p/10-klassnyh-funkciy-python-3-9-2020-11-21\n",
    "\n",
    "## Объединение словарей\n",
    "с помощью оператора `|`"
   ]
  },
  {
   "cell_type": "code",
   "execution_count": 62,
   "metadata": {},
   "outputs": [
    {
     "name": "stdout",
     "output_type": "stream",
     "text": [
      "{'a': 1, 'b': 3, 'e': 5}\n"
     ]
    }
   ],
   "source": [
    "a = {'a': 1, 'b': 2}\n",
    "b = {'c': 3, 'e': 5}\n",
    "c = a | b\n",
    "print(c)"
   ]
  },
  {
   "cell_type": "markdown",
   "metadata": {},
   "source": [
    "Также можно дозаписывать элементы в существующий словарь:"
   ]
  },
  {
   "cell_type": "code",
   "execution_count": 63,
   "metadata": {},
   "outputs": [
    {
     "name": "stdout",
     "output_type": "stream",
     "text": [
      "{'a': 1, 'b': 2, 'c': 3}\n"
     ]
    }
   ],
   "source": [
    "a = {'a': 1, 'b': 2}\n",
    "a |= {'c': 3}\n",
    "print(a)"
   ]
  },
  {
   "cell_type": "markdown",
   "metadata": {},
   "source": [
    "У оператора `|=` есть также неожиданное поведение, при котором мы можем справа от него указать итерируемый объект кортежей. Оператор `|` при этом так не может."
   ]
  },
  {
   "cell_type": "code",
   "execution_count": 64,
   "metadata": {},
   "outputs": [
    {
     "name": "stdout",
     "output_type": "stream",
     "text": [
      "{'a': 1, 'b': 2, 'c': 3, 'd': 4}\n"
     ]
    }
   ],
   "source": [
    "a = {'a': 1, 'b': 2}\n",
    "a |= [('c', 3), ('d', 4)]\n",
    "print(a)"
   ]
  },
  {
   "cell_type": "markdown",
   "metadata": {},
   "source": [
    "## Generic-подсказки типов в стандартных коллекциях\n",
    "\n",
    "До Python 3.9 приходилось использовать классы библиотеки typing для того, чтобы описать какие-то сложные типы в аннотациях, например, коллекции. Теперь можно описывать их, используя стандартные коллекции."
   ]
  },
  {
   "cell_type": "code",
   "execution_count": null,
   "metadata": {},
   "outputs": [],
   "source": [
    "# Python 3.7\n",
    "from typing import Dict, Tuple, Generator\n",
    "\n",
    "def func(d: Dict[str, int], t: Tuple[str]) -> Generator:\n",
    "    return (d[k] for k in t)"
   ]
  },
  {
   "cell_type": "code",
   "execution_count": null,
   "metadata": {},
   "outputs": [],
   "source": [
    "# Python 3.9\n",
    "from collections.abc import Generator\n",
    "\n",
    "def func(d: dict[str, int], t: tuple[str]) -> Generator:\n",
    "    return (d[k] for k in t)"
   ]
  },
  {
   "cell_type": "markdown",
   "metadata": {},
   "source": [
    "## Расширение возможностей оператора @ в декораторах\n",
    "Например, теперь можно обращаться к элементам коллекций внутри оператора @"
   ]
  },
  {
   "cell_type": "code",
   "execution_count": 60,
   "metadata": {},
   "outputs": [],
   "source": [
    "def decorator1(func):\n",
    "    def wrapper(*args, **kwargs):\n",
    "        return func(*args, **kwargs)\n",
    "    return wrapper\n",
    "\n",
    "def decorator2(func):\n",
    "    def wrapper(*args, **kwargs):\n",
    "        return func(*args, **kwargs)\n",
    "    return wrapper\n",
    "\n",
    "some = type(\"cls\", (), {})()\n",
    "some.decorators = [decorator1, decorator2]\n",
    "\n",
    "\n",
    "@some.decorators[1]\n",
    "def foo(x, y):\n",
    "    return x + y"
   ]
  },
  {
   "cell_type": "markdown",
   "metadata": {},
   "source": [
    "## Строковые методы\n",
    "Добавилась пара новых методов у строк:"
   ]
  },
  {
   "cell_type": "code",
   "execution_count": 65,
   "metadata": {},
   "outputs": [
    {
     "data": {
      "text/plain": [
       "'first_try_new'"
      ]
     },
     "execution_count": 65,
     "metadata": {},
     "output_type": "execute_result"
    }
   ],
   "source": [
    "\"test_first_try_new\".removeprefix(\"test_\")  # удалить подстроку из начала строки"
   ]
  },
  {
   "cell_type": "code",
   "execution_count": 66,
   "metadata": {},
   "outputs": [
    {
     "data": {
      "text/plain": [
       "'test_first_try'"
      ]
     },
     "execution_count": 66,
     "metadata": {},
     "output_type": "execute_result"
    }
   ],
   "source": [
    "\"test_first_try_new\".removesuffix(\"_new\")   # удалить подстроку из конца строки"
   ]
  },
  {
   "cell_type": "markdown",
   "metadata": {},
   "source": [
    "## Новые возможности асинхронных приложений\n",
    "При выключении Executor'а раньше футуры, которые еще не начали своё исполнение, всё равно дожидались своей очереди и исполнялись. Теперь их можно отменить с помощью аргумента `cancel_futures` в методе `shutdown` экзекьютора."
   ]
  },
  {
   "cell_type": "code",
   "execution_count": null,
   "metadata": {},
   "outputs": [],
   "source": [
    "concurrent.futures.Executor.shutdown(cancel_futures=True)\n",
    "concurrent.futures.ThreadPoolExecutor.shutdown(cancel_futures=True)\n",
    "concurrent.futures.ProcessPoolExecutor.shutdown(cancel_futures=True)"
   ]
  },
  {
   "cell_type": "markdown",
   "metadata": {},
   "source": [
    "## Новый парсер\n",
    "Текущий синтаксический анализатор python реализован на основе грамматики LL (1). Такой парсер считывает документ сверху вниз и слева направо, смотря при этом только на один токен вперед. Это накладывает некоторые ограничения на возможные конструкции языка. Например, такой синтаксис распарсить не получится:"
   ]
  },
  {
   "cell_type": "code",
   "execution_count": null,
   "metadata": {},
   "outputs": [],
   "source": [
    "with (open(\"file1.txt\") as f1, open(\"file2.txt\") as f2):\n",
    "    pass"
   ]
  },
  {
   "cell_type": "markdown",
   "metadata": {},
   "source": [
    "Python 3.9 будет использовать синтаксический анализатор на основе грамматики PEG, что позволит формировать более гибкие конструкции в языке. За счет отсутствия необходимости построения промежуточного дерева токенов интерпретация кода может происходить до 10% более эффективно."
   ]
  },
  {
   "cell_type": "markdown",
   "metadata": {},
   "source": [
    "## Улучшение производительности\n",
    "Как и в любой другой версии Python, в версии 3.9 улучшена скорость исполнения кода. На этот раз - за счет применения нового протокола вызова объектов из стандартных коллекций vectorcall."
   ]
  }
 ],
 "metadata": {
  "kernelspec": {
   "display_name": "Python 3",
   "language": "python",
   "name": "python3"
  },
  "language_info": {
   "codemirror_mode": {
    "name": "ipython",
    "version": 3
   },
   "file_extension": ".py",
   "mimetype": "text/x-python",
   "name": "python",
   "nbconvert_exporter": "python",
   "pygments_lexer": "ipython3",
   "version": "3.6.5"
  }
 },
 "nbformat": 4,
 "nbformat_minor": 2
}
