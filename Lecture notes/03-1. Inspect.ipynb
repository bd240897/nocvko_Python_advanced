{
 "cells": [
  {
   "cell_type": "markdown",
   "metadata": {},
   "source": [
    "# Интроспекция\n",
    "\n",
    "**Интроспекция** в программировании — возможность запросить тип и структуру объекта во время выполнения программы.\n",
    "\n",
    "Несколько встроенных функций:"
   ]
  },
  {
   "cell_type": "code",
   "execution_count": null,
   "metadata": {},
   "outputs": [],
   "source": [
    "print(type(123))"
   ]
  },
  {
   "cell_type": "code",
   "execution_count": null,
   "metadata": {},
   "outputs": [],
   "source": [
    "print(callable(lambda: 1))\n",
    "print(isinstance(\"abc\", str))\n",
    "print(issubclass(ValueError, Exception))"
   ]
  },
  {
   "cell_type": "code",
   "execution_count": null,
   "metadata": {},
   "outputs": [],
   "source": [
    "def add(x, y):\n",
    "    if isinstance(x, str):\n",
    "        return x + str(y)\n",
    "    return x + y\n",
    "\n",
    "add(\"abcde\", 25)"
   ]
  },
  {
   "cell_type": "code",
   "execution_count": null,
   "metadata": {},
   "outputs": [],
   "source": [
    "add(50, 25)"
   ]
  },
  {
   "cell_type": "code",
   "execution_count": null,
   "metadata": {},
   "outputs": [],
   "source": [
    "add(\"ab\", \"cd\")"
   ]
  },
  {
   "cell_type": "markdown",
   "metadata": {},
   "source": [
    "И всякие магические атрибуты (https://docs.python.org/3/library/inspect.html):"
   ]
  },
  {
   "cell_type": "markdown",
   "metadata": {},
   "source": [
    "<table class=\"docutils align-default\">\n",
    "<colgroup>\n",
    "<col style=\"width: 19%\">\n",
    "<col style=\"width: 33%\">\n",
    "<col style=\"width: 47%\">\n",
    "</colgroup>\n",
    "<thead>\n",
    "<tr class=\"row-odd\"><th class=\"head\"><p>Type</p></th>\n",
    "<th class=\"head\"><p>Attribute</p></th>\n",
    "<th class=\"head\"><p>Description</p></th>\n",
    "</tr>\n",
    "</thead>\n",
    "<tbody>\n",
    "<tr class=\"row-even\"><td><p>module</p></td>\n",
    "<td><p><pre>__doc__</pre></p></td>\n",
    "<td><p>documentation string</p></td>\n",
    "</tr>\n",
    "<tr class=\"row-odd\"><td></td>\n",
    "<td><p><pre>__file__</pre></p></td>\n",
    "<td><p>filename (missing for\n",
    "built-in modules)</p></td>\n",
    "</tr>\n",
    "<tr class=\"row-even\"><td><p>class</p></td>\n",
    "<td><p><pre>__doc__</pre></p></td>\n",
    "<td><p>documentation string</p></td>\n",
    "</tr>\n",
    "<tr class=\"row-odd\"><td></td>\n",
    "<td><p><pre>__name__</pre></p></td>\n",
    "<td><p>name with which this\n",
    "class was defined</p></td>\n",
    "</tr>\n",
    "<tr class=\"row-even\"><td></td>\n",
    "<td><p><pre>__qualname__</pre></p></td>\n",
    "<td><p>qualified name</p></td>\n",
    "</tr>\n",
    "<tr class=\"row-odd\"><td></td>\n",
    "<td><p><pre>__module__</pre></p></td>\n",
    "<td><p>name of module in which\n",
    "this class was defined</p></td>\n",
    "</tr>\n",
    "<tr class=\"row-even\"><td><p>method</p></td>\n",
    "<td><p><pre>__doc__</pre></p></td>\n",
    "<td><p>documentation string</p></td>\n",
    "</tr>\n",
    "<tr class=\"row-odd\"><td></td>\n",
    "<td><p><pre>__name__</pre></p></td>\n",
    "<td><p>name with which this\n",
    "method was defined</p></td>\n",
    "</tr>\n",
    "<tr class=\"row-even\"><td></td>\n",
    "<td><p><pre>__qualname__</pre></p></td>\n",
    "<td><p>qualified name</p></td>\n",
    "</tr>\n",
    "<tr class=\"row-odd\"><td></td>\n",
    "<td><p><pre>__func__</pre></p></td>\n",
    "<td><p>function object\n",
    "containing implementation\n",
    "of method</p></td>\n",
    "</tr>\n",
    "<tr class=\"row-even\"><td></td>\n",
    "<td><p><pre>__self__</pre></p></td>\n",
    "<td><p>instance to which this\n",
    "method is bound, or\n",
    "<code class=\"docutils literal notranslate\"><span class=\"pre\">None</span></code></p></td>\n",
    "</tr>\n",
    "<tr class=\"row-odd\"><td></td>\n",
    "<td><p><pre>__module__</pre></p></td>\n",
    "<td><p>name of module in which\n",
    "this method was defined</p></td>\n",
    "</tr>\n",
    "<tr class=\"row-even\"><td><p>function</p></td>\n",
    "<td><p><pre>__doc__</pre></p></td>\n",
    "<td><p>documentation string</p></td>\n",
    "</tr>\n",
    "<tr class=\"row-odd\"><td></td>\n",
    "<td><p><pre>__name__</pre></p></td>\n",
    "<td><p>name with which this\n",
    "function was defined</p></td>\n",
    "</tr>\n",
    "<tr class=\"row-even\"><td></td>\n",
    "<td><p><pre>__qualname__</pre></p></td>\n",
    "<td><p>qualified name</p></td>\n",
    "</tr>\n",
    "<tr class=\"row-odd\"><td></td>\n",
    "<td><p><pre>__code__</pre></p></td>\n",
    "<td><p>code object containing\n",
    "compiled function\n",
    "<a class=\"reference internal\" href=\"../glossary.html#term-bytecode\"><span class=\"xref std std-term\">bytecode</span></a></p></td>\n",
    "</tr>\n",
    "<tr class=\"row-even\"><td></td>\n",
    "<td><p><pre>__defaults__</pre></p></td>\n",
    "<td><p>tuple of any default\n",
    "values for positional or\n",
    "keyword parameters</p></td>\n",
    "</tr>\n",
    "<tr class=\"row-odd\"><td></td>\n",
    "<td><p><pre>__kwdefaults__</pre></p></td>\n",
    "<td><p>mapping of any default\n",
    "values for keyword-only\n",
    "parameters</p></td>\n",
    "</tr>\n",
    "<tr class=\"row-even\"><td></td>\n",
    "<td><p><pre>__globals__</pre></p></td>\n",
    "<td><p>global namespace in which\n",
    "this function was defined</p></td>\n",
    "</tr>\n",
    "<tr class=\"row-odd\"><td></td>\n",
    "<td><p><pre>__annotations__</pre></p></td>\n",
    "<td><p>mapping of parameters\n",
    "names to annotations;\n",
    "<code class=\"docutils literal notranslate\"><span class=\"pre\">\"return\"</span></code> key is\n",
    "reserved for return\n",
    "annotations.</p></td>\n",
    "</tr>\n",
    "<tr class=\"row-even\"><td></td>\n",
    "<td><p><pre>__module__</pre></p></td>\n",
    "<td><p>name of module in which\n",
    "this function was defined</p></td>\n",
    "</tr>\n",
    "\n",
    "</tbody>\n",
    "</table>"
   ]
  },
  {
   "cell_type": "markdown",
   "metadata": {},
   "source": [
    "## Доступ к глобальным и локальным переменным"
   ]
  },
  {
   "cell_type": "code",
   "execution_count": null,
   "metadata": {},
   "outputs": [],
   "source": [
    "g = 10\n",
    "\n",
    "def some_function(a=5):\n",
    "    b = 27\n",
    "    print(locals())\n",
    "    print()\n",
    "    print(globals())\n",
    "\n",
    "some_function()"
   ]
  },
  {
   "cell_type": "markdown",
   "metadata": {},
   "source": [
    "# Модуль inspect\n",
    "\n",
    "Этот модуль позволяет получать информацию об объектах в runtime. Иногда это бывает полезно =). Создадим несколько объектов, на которых рассмотрим возможности inspect: https://www.journaldev.com/19946/python-inspect-module"
   ]
  },
  {
   "cell_type": "code",
   "execution_count": null,
   "metadata": {},
   "outputs": [],
   "source": [
    "def module_funct(arg1, arg2 = 'default', *args):\n",
    "    \"\"\"This is a module-level function.\"\"\"\n",
    "    local_var = arg1 * 3\n",
    "    return local_var\n",
    "\n",
    "\n",
    "class X(object):\n",
    "    \"\"\"Definition for X class.\"\"\"\n",
    "\n",
    "    def __init__(self, name):\n",
    "        self.name = name\n",
    "\n",
    "    def get_name(self):\n",
    "        \"Returns the name of the instance.\"\n",
    "        return self.name\n",
    "\n",
    "    \n",
    "x_obj = X('sample_instance')\n",
    "\n",
    "\n",
    "class Y(X):\n",
    "    \"\"\"This is the Y class, \n",
    "    child of X class.\n",
    "    \"\"\"\n",
    "\n",
    "    # This method is not part of X class.\n",
    "    def do_something(self):\n",
    "        \"\"\"Anything can be done here.\"\"\"\n",
    "\n",
    "    def get_name(self):\n",
    "        \"Overrides version from X\"\n",
    "        return 'Y(' + self.name + ')'"
   ]
  },
  {
   "cell_type": "markdown",
   "metadata": {},
   "source": [
    "Этот же код содержится в файле sample.py, который лежит в этой же папке. Будем рассматривать этот файл как модуль. С помощью `inspect.getmemebrs` можем посмотреть, какие объекты содержит этот модуль."
   ]
  },
  {
   "cell_type": "code",
   "execution_count": 19,
   "metadata": {},
   "outputs": [
    {
     "name": "stdout",
     "output_type": "stream",
     "text": [
      "X : <class 'sample.X'>\n",
      "Y : <class 'sample.Y'>\n",
      "module_funct : <function module_funct at 0x000001F3A2109F70>\n",
      "x_obj : <sample.X object at 0x000001F3A3DD4D60>\n"
     ]
    }
   ],
   "source": [
    "import inspect\n",
    "import sample\n",
    "from pprint import pprint\n",
    "\n",
    "for name, data in inspect.getmembers(sample):\n",
    "    if name.startswith('__'):\n",
    "        continue\n",
    "    print(f'{name} : {data!r}')"
   ]
  },
  {
   "cell_type": "markdown",
   "metadata": {},
   "source": [
    "Можем посмотреть только классы:"
   ]
  },
  {
   "cell_type": "code",
   "execution_count": 20,
   "metadata": {},
   "outputs": [
    {
     "name": "stdout",
     "output_type": "stream",
     "text": [
      "X : <class 'sample.X'>\n",
      "Y : <class 'sample.Y'>\n"
     ]
    }
   ],
   "source": [
    "for key, data in inspect.getmembers(sample, inspect.isclass):\n",
    "    print('{} : {!r}'.format(key, data))"
   ]
  },
  {
   "cell_type": "markdown",
   "metadata": {},
   "source": [
    "Или методы в отдельном классе:"
   ]
  },
  {
   "cell_type": "code",
   "execution_count": 21,
   "metadata": {},
   "outputs": [
    {
     "name": "stdout",
     "output_type": "stream",
     "text": [
      "[('__init__', <function X.__init__ at 0x000001F3A3493C10>),\n",
      " ('get_name', <function X.get_name at 0x000001F3A3493D30>)]\n"
     ]
    }
   ],
   "source": [
    "pprint(inspect.getmembers(sample.X, inspect.isfunction))"
   ]
  },
  {
   "cell_type": "markdown",
   "metadata": {},
   "source": [
    "Обратите внимание, мы увидели именно методы класса, не bound methods объекта! Чтобы посмотреть, что есть внутри объекта, нам нужно его прежде инстанцировать."
   ]
  },
  {
   "cell_type": "code",
   "execution_count": 22,
   "metadata": {},
   "outputs": [
    {
     "name": "stdout",
     "output_type": "stream",
     "text": [
      "[('__init__',\n",
      "  <bound method X.__init__ of <sample.X object at 0x000001F3A2FDBE80>>),\n",
      " ('get_name',\n",
      "  <bound method X.get_name of <sample.X object at 0x000001F3A2FDBE80>>)]\n"
     ]
    }
   ],
   "source": [
    "x = sample.X(name='inspect_getmembers')\n",
    "pprint(inspect.getmembers(x, inspect.ismethod))"
   ]
  },
  {
   "cell_type": "markdown",
   "metadata": {},
   "source": [
    "Можем получить docstring:"
   ]
  },
  {
   "cell_type": "code",
   "execution_count": 23,
   "metadata": {},
   "outputs": [
    {
     "name": "stdout",
     "output_type": "stream",
     "text": [
      "X.__doc__:\n",
      "Definition for X class.\n",
      "\n",
      "getdoc(X):\n",
      "Definition for X class.\n"
     ]
    }
   ],
   "source": [
    "print('X.__doc__:')\n",
    "print(sample.X.__doc__)\n",
    "print()\n",
    "\n",
    "print('getdoc(X):')\n",
    "print(inspect.getdoc(sample.X))"
   ]
  },
  {
   "cell_type": "markdown",
   "metadata": {},
   "source": [
    "Можно даже посмотреть исходный код сущности =)"
   ]
  },
  {
   "cell_type": "code",
   "execution_count": 24,
   "metadata": {},
   "outputs": [
    {
     "name": "stdout",
     "output_type": "stream",
     "text": [
      "class Y(X):\n",
      "    \"\"\"This is the Y class, \n",
      "    child of X class.\n",
      "    \"\"\"\n",
      "\n",
      "    # This method is not part of X class.\n",
      "    def do_something(self):\n",
      "        \"\"\"Anything can be done here.\"\"\"\n",
      "\n",
      "    def get_name(self):\n",
      "        \"Overrides version from X\"\n",
      "        return 'Y(' + self.name + ')'\n",
      "\n"
     ]
    }
   ],
   "source": [
    "print(inspect.getsource(sample.Y))"
   ]
  },
  {
   "cell_type": "code",
   "execution_count": 25,
   "metadata": {},
   "outputs": [
    {
     "name": "stdout",
     "output_type": "stream",
     "text": [
      "    def get_name(self):\n",
      "        \"Overrides version from X\"\n",
      "        return 'Y(' + self.name + ')'\n",
      "\n"
     ]
    }
   ],
   "source": [
    "print(inspect.getsource(sample.Y.get_name))"
   ]
  },
  {
   "cell_type": "markdown",
   "metadata": {},
   "source": [
    "### Inspect функций:"
   ]
  },
  {
   "cell_type": "code",
   "execution_count": 26,
   "metadata": {},
   "outputs": [
    {
     "name": "stdout",
     "output_type": "stream",
     "text": [
      "(a, *, b: int, **kwargs)\n",
      "b: int\n",
      "<class 'int'>\n"
     ]
    }
   ],
   "source": [
    "def foo(a, *, b:int, **kwargs):\n",
    "    pass\n",
    "\n",
    "sig = inspect.signature(foo)\n",
    "\n",
    "print(sig)\n",
    "print(sig.parameters['b'])\n",
    "print(sig.parameters['b'].annotation)"
   ]
  },
  {
   "cell_type": "markdown",
   "metadata": {},
   "source": [
    "Кроме информации о самой функции, можно посмотреть, с какими аргументами она будет вызвана, если ее вызвать:"
   ]
  },
  {
   "cell_type": "code",
   "execution_count": 27,
   "metadata": {},
   "outputs": [
    {
     "name": "stdout",
     "output_type": "stream",
     "text": [
      "{'a': 1, 'b': 2, 'pos': (3,), 'named': {}}\n",
      "{'pos': (), 'named': {'x': 4}, 'a': 2, 'b': 1}\n"
     ]
    },
    {
     "ename": "TypeError",
     "evalue": "f() missing 1 required positional argument: 'a'",
     "output_type": "error",
     "traceback": [
      "\u001b[1;31m---------------------------------------------------------------------------\u001b[0m",
      "\u001b[1;31mTypeError\u001b[0m                                 Traceback (most recent call last)",
      "\u001b[1;32m<ipython-input-27-107d6eede51c>\u001b[0m in \u001b[0;36m<module>\u001b[1;34m\u001b[0m\n\u001b[0;32m      6\u001b[0m \u001b[0mprint\u001b[0m\u001b[1;33m(\u001b[0m\u001b[0mgetcallargs\u001b[0m\u001b[1;33m(\u001b[0m\u001b[0mf\u001b[0m\u001b[1;33m,\u001b[0m \u001b[0ma\u001b[0m\u001b[1;33m=\u001b[0m\u001b[1;36m2\u001b[0m\u001b[1;33m,\u001b[0m \u001b[0mx\u001b[0m\u001b[1;33m=\u001b[0m\u001b[1;36m4\u001b[0m\u001b[1;33m)\u001b[0m\u001b[1;33m)\u001b[0m\u001b[1;33m\u001b[0m\u001b[1;33m\u001b[0m\u001b[0m\n\u001b[0;32m      7\u001b[0m \u001b[1;33m\u001b[0m\u001b[0m\n\u001b[1;32m----> 8\u001b[1;33m \u001b[0mgetcallargs\u001b[0m\u001b[1;33m(\u001b[0m\u001b[0mf\u001b[0m\u001b[1;33m)\u001b[0m\u001b[1;33m\u001b[0m\u001b[1;33m\u001b[0m\u001b[0m\n\u001b[0m",
      "\u001b[1;32mC:\\ProgramData\\Anaconda3\\lib\\inspect.py\u001b[0m in \u001b[0;36mgetcallargs\u001b[1;34m(func, *positional, **named)\u001b[0m\n\u001b[0;32m   1371\u001b[0m         \u001b[1;32mfor\u001b[0m \u001b[0marg\u001b[0m \u001b[1;32min\u001b[0m \u001b[0mreq\u001b[0m\u001b[1;33m:\u001b[0m\u001b[1;33m\u001b[0m\u001b[1;33m\u001b[0m\u001b[0m\n\u001b[0;32m   1372\u001b[0m             \u001b[1;32mif\u001b[0m \u001b[0marg\u001b[0m \u001b[1;32mnot\u001b[0m \u001b[1;32min\u001b[0m \u001b[0marg2value\u001b[0m\u001b[1;33m:\u001b[0m\u001b[1;33m\u001b[0m\u001b[1;33m\u001b[0m\u001b[0m\n\u001b[1;32m-> 1373\u001b[1;33m                 \u001b[0m_missing_arguments\u001b[0m\u001b[1;33m(\u001b[0m\u001b[0mf_name\u001b[0m\u001b[1;33m,\u001b[0m \u001b[0mreq\u001b[0m\u001b[1;33m,\u001b[0m \u001b[1;32mTrue\u001b[0m\u001b[1;33m,\u001b[0m \u001b[0marg2value\u001b[0m\u001b[1;33m)\u001b[0m\u001b[1;33m\u001b[0m\u001b[1;33m\u001b[0m\u001b[0m\n\u001b[0m\u001b[0;32m   1374\u001b[0m         \u001b[1;32mfor\u001b[0m \u001b[0mi\u001b[0m\u001b[1;33m,\u001b[0m \u001b[0marg\u001b[0m \u001b[1;32min\u001b[0m \u001b[0menumerate\u001b[0m\u001b[1;33m(\u001b[0m\u001b[0margs\u001b[0m\u001b[1;33m[\u001b[0m\u001b[0mnum_args\u001b[0m \u001b[1;33m-\u001b[0m \u001b[0mnum_defaults\u001b[0m\u001b[1;33m:\u001b[0m\u001b[1;33m]\u001b[0m\u001b[1;33m)\u001b[0m\u001b[1;33m:\u001b[0m\u001b[1;33m\u001b[0m\u001b[1;33m\u001b[0m\u001b[0m\n\u001b[0;32m   1375\u001b[0m             \u001b[1;32mif\u001b[0m \u001b[0marg\u001b[0m \u001b[1;32mnot\u001b[0m \u001b[1;32min\u001b[0m \u001b[0marg2value\u001b[0m\u001b[1;33m:\u001b[0m\u001b[1;33m\u001b[0m\u001b[1;33m\u001b[0m\u001b[0m\n",
      "\u001b[1;32mC:\\ProgramData\\Anaconda3\\lib\\inspect.py\u001b[0m in \u001b[0;36m_missing_arguments\u001b[1;34m(f_name, argnames, pos, values)\u001b[0m\n\u001b[0;32m   1300\u001b[0m         \u001b[1;32mdel\u001b[0m \u001b[0mnames\u001b[0m\u001b[1;33m[\u001b[0m\u001b[1;33m-\u001b[0m\u001b[1;36m2\u001b[0m\u001b[1;33m:\u001b[0m\u001b[1;33m]\u001b[0m\u001b[1;33m\u001b[0m\u001b[1;33m\u001b[0m\u001b[0m\n\u001b[0;32m   1301\u001b[0m         \u001b[0ms\u001b[0m \u001b[1;33m=\u001b[0m \u001b[1;34m\", \"\u001b[0m\u001b[1;33m.\u001b[0m\u001b[0mjoin\u001b[0m\u001b[1;33m(\u001b[0m\u001b[0mnames\u001b[0m\u001b[1;33m)\u001b[0m \u001b[1;33m+\u001b[0m \u001b[0mtail\u001b[0m\u001b[1;33m\u001b[0m\u001b[1;33m\u001b[0m\u001b[0m\n\u001b[1;32m-> 1302\u001b[1;33m     raise TypeError(\"%s() missing %i required %s argument%s: %s\" %\n\u001b[0m\u001b[0;32m   1303\u001b[0m                     (f_name, missing,\n\u001b[0;32m   1304\u001b[0m                       \u001b[1;34m\"positional\"\u001b[0m \u001b[1;32mif\u001b[0m \u001b[0mpos\u001b[0m \u001b[1;32melse\u001b[0m \u001b[1;34m\"keyword-only\"\u001b[0m\u001b[1;33m,\u001b[0m\u001b[1;33m\u001b[0m\u001b[1;33m\u001b[0m\u001b[0m\n",
      "\u001b[1;31mTypeError\u001b[0m: f() missing 1 required positional argument: 'a'"
     ]
    }
   ],
   "source": [
    "from inspect import getcallargs\n",
    "def f(a, b=1, *pos, **named):\n",
    "    pass\n",
    "\n",
    "print(getcallargs(f, 1, 2, 3))\n",
    "print(getcallargs(f, a=2, x=4))\n",
    "\n",
    "getcallargs(f)"
   ]
  },
  {
   "cell_type": "markdown",
   "metadata": {},
   "source": [
    "### Inspect окружения:"
   ]
  },
  {
   "cell_type": "code",
   "execution_count": 28,
   "metadata": {},
   "outputs": [
    {
     "name": "stdout",
     "output_type": "stream",
     "text": [
      "getfile\t\tC:\\Users\\teacher\\python_advanced_online\\sample.py\n"
     ]
    }
   ],
   "source": [
    "print('getfile', inspect.getfile(sample.module_funct), sep='\\t\\t')"
   ]
  },
  {
   "cell_type": "code",
   "execution_count": 29,
   "metadata": {},
   "outputs": [
    {
     "name": "stdout",
     "output_type": "stream",
     "text": [
      "getmodule\t<module 'sample' from 'C:\\\\Users\\\\teacher\\\\python_advanced_online\\\\sample.py'>\n"
     ]
    }
   ],
   "source": [
    "print('getmodule', inspect.getmodule(sample.module_funct), sep='\\t')"
   ]
  },
  {
   "cell_type": "code",
   "execution_count": 30,
   "metadata": {},
   "outputs": [
    {
     "name": "stdout",
     "output_type": "stream",
     "text": [
      "getsource\n",
      "def module_funct(arg1, arg2 = 'default', *args):\n",
      "    \"\"\"This is a module-level function.\"\"\"\n",
      "    local_var = arg1 * 3\n",
      "    return local_var\n",
      "\n"
     ]
    }
   ],
   "source": [
    "print('getsource', inspect.getsource(sample.module_funct), sep='\\n')"
   ]
  },
  {
   "cell_type": "code",
   "execution_count": 31,
   "metadata": {},
   "outputs": [
    {
     "name": "stdout",
     "output_type": "stream",
     "text": [
      "signature\t(arg1, arg2='default', *args)\n"
     ]
    }
   ],
   "source": [
    "print('signature', inspect.signature(sample.module_funct), sep='\\t')"
   ]
  },
  {
   "cell_type": "markdown",
   "metadata": {},
   "source": [
    "# Стек интерпретатора\n",
    "## и абсолютно черная магия\n",
    "\n",
    "Для описания стека исполняемого кода используются два основных понятия:\n",
    "\n",
    "- __Стек вызовов__ - стек, хранящий информацию для возврата управления из подпрограмм (процедур, функций) в программу (или подпрограмму, при вложенных или рекурсивных вызовах) и/или для возврата в программу из обработчика прерывания (в том числе при переключении задач в многозадачной среде). \n",
    "\n",
    "- __Стековый кадр (frame)__ - механизм передачи аргументов и выделения временной памяти (в процедурах языков программирования высокого уровня) с использованием системного стека; ячейка памяти в стеке.\n",
    "\n",
    "В Python предусмотрены специальные объекты, которые хранят эти сущности: Traceback и Frame.\n",
    "\n",
    "https://habr.com/ru/post/255239/\n",
    "\n",
    "Traceback мы можем увидеть при выбросе исключения:"
   ]
  },
  {
   "cell_type": "code",
   "execution_count": 32,
   "metadata": {},
   "outputs": [
    {
     "ename": "MissingSchema",
     "evalue": "Invalid URL 'None': No schema supplied. Perhaps you meant http://None?",
     "output_type": "error",
     "traceback": [
      "\u001b[1;31m---------------------------------------------------------------------------\u001b[0m",
      "\u001b[1;31mMissingSchema\u001b[0m                             Traceback (most recent call last)",
      "\u001b[1;32m<ipython-input-32-77659fbd64d3>\u001b[0m in \u001b[0;36m<module>\u001b[1;34m\u001b[0m\n\u001b[0;32m      1\u001b[0m \u001b[1;32mimport\u001b[0m \u001b[0mrequests\u001b[0m\u001b[1;33m\u001b[0m\u001b[1;33m\u001b[0m\u001b[0m\n\u001b[1;32m----> 2\u001b[1;33m \u001b[0mrequests\u001b[0m\u001b[1;33m.\u001b[0m\u001b[0mget\u001b[0m\u001b[1;33m(\u001b[0m\u001b[1;32mNone\u001b[0m\u001b[1;33m)\u001b[0m\u001b[1;33m\u001b[0m\u001b[1;33m\u001b[0m\u001b[0m\n\u001b[0m",
      "\u001b[1;32mC:\\ProgramData\\Anaconda3\\lib\\site-packages\\requests\\api.py\u001b[0m in \u001b[0;36mget\u001b[1;34m(url, params, **kwargs)\u001b[0m\n\u001b[0;32m     74\u001b[0m \u001b[1;33m\u001b[0m\u001b[0m\n\u001b[0;32m     75\u001b[0m     \u001b[0mkwargs\u001b[0m\u001b[1;33m.\u001b[0m\u001b[0msetdefault\u001b[0m\u001b[1;33m(\u001b[0m\u001b[1;34m'allow_redirects'\u001b[0m\u001b[1;33m,\u001b[0m \u001b[1;32mTrue\u001b[0m\u001b[1;33m)\u001b[0m\u001b[1;33m\u001b[0m\u001b[1;33m\u001b[0m\u001b[0m\n\u001b[1;32m---> 76\u001b[1;33m     \u001b[1;32mreturn\u001b[0m \u001b[0mrequest\u001b[0m\u001b[1;33m(\u001b[0m\u001b[1;34m'get'\u001b[0m\u001b[1;33m,\u001b[0m \u001b[0murl\u001b[0m\u001b[1;33m,\u001b[0m \u001b[0mparams\u001b[0m\u001b[1;33m=\u001b[0m\u001b[0mparams\u001b[0m\u001b[1;33m,\u001b[0m \u001b[1;33m**\u001b[0m\u001b[0mkwargs\u001b[0m\u001b[1;33m)\u001b[0m\u001b[1;33m\u001b[0m\u001b[1;33m\u001b[0m\u001b[0m\n\u001b[0m\u001b[0;32m     77\u001b[0m \u001b[1;33m\u001b[0m\u001b[0m\n\u001b[0;32m     78\u001b[0m \u001b[1;33m\u001b[0m\u001b[0m\n",
      "\u001b[1;32mC:\\ProgramData\\Anaconda3\\lib\\site-packages\\requests\\api.py\u001b[0m in \u001b[0;36mrequest\u001b[1;34m(method, url, **kwargs)\u001b[0m\n\u001b[0;32m     59\u001b[0m     \u001b[1;31m# cases, and look like a memory leak in others.\u001b[0m\u001b[1;33m\u001b[0m\u001b[1;33m\u001b[0m\u001b[1;33m\u001b[0m\u001b[0m\n\u001b[0;32m     60\u001b[0m     \u001b[1;32mwith\u001b[0m \u001b[0msessions\u001b[0m\u001b[1;33m.\u001b[0m\u001b[0mSession\u001b[0m\u001b[1;33m(\u001b[0m\u001b[1;33m)\u001b[0m \u001b[1;32mas\u001b[0m \u001b[0msession\u001b[0m\u001b[1;33m:\u001b[0m\u001b[1;33m\u001b[0m\u001b[1;33m\u001b[0m\u001b[0m\n\u001b[1;32m---> 61\u001b[1;33m         \u001b[1;32mreturn\u001b[0m \u001b[0msession\u001b[0m\u001b[1;33m.\u001b[0m\u001b[0mrequest\u001b[0m\u001b[1;33m(\u001b[0m\u001b[0mmethod\u001b[0m\u001b[1;33m=\u001b[0m\u001b[0mmethod\u001b[0m\u001b[1;33m,\u001b[0m \u001b[0murl\u001b[0m\u001b[1;33m=\u001b[0m\u001b[0murl\u001b[0m\u001b[1;33m,\u001b[0m \u001b[1;33m**\u001b[0m\u001b[0mkwargs\u001b[0m\u001b[1;33m)\u001b[0m\u001b[1;33m\u001b[0m\u001b[1;33m\u001b[0m\u001b[0m\n\u001b[0m\u001b[0;32m     62\u001b[0m \u001b[1;33m\u001b[0m\u001b[0m\n\u001b[0;32m     63\u001b[0m \u001b[1;33m\u001b[0m\u001b[0m\n",
      "\u001b[1;32mC:\\ProgramData\\Anaconda3\\lib\\site-packages\\requests\\sessions.py\u001b[0m in \u001b[0;36mrequest\u001b[1;34m(self, method, url, params, data, headers, cookies, files, auth, timeout, allow_redirects, proxies, hooks, stream, verify, cert, json)\u001b[0m\n\u001b[0;32m    514\u001b[0m             \u001b[0mhooks\u001b[0m\u001b[1;33m=\u001b[0m\u001b[0mhooks\u001b[0m\u001b[1;33m,\u001b[0m\u001b[1;33m\u001b[0m\u001b[1;33m\u001b[0m\u001b[0m\n\u001b[0;32m    515\u001b[0m         )\n\u001b[1;32m--> 516\u001b[1;33m         \u001b[0mprep\u001b[0m \u001b[1;33m=\u001b[0m \u001b[0mself\u001b[0m\u001b[1;33m.\u001b[0m\u001b[0mprepare_request\u001b[0m\u001b[1;33m(\u001b[0m\u001b[0mreq\u001b[0m\u001b[1;33m)\u001b[0m\u001b[1;33m\u001b[0m\u001b[1;33m\u001b[0m\u001b[0m\n\u001b[0m\u001b[0;32m    517\u001b[0m \u001b[1;33m\u001b[0m\u001b[0m\n\u001b[0;32m    518\u001b[0m         \u001b[0mproxies\u001b[0m \u001b[1;33m=\u001b[0m \u001b[0mproxies\u001b[0m \u001b[1;32mor\u001b[0m \u001b[1;33m{\u001b[0m\u001b[1;33m}\u001b[0m\u001b[1;33m\u001b[0m\u001b[1;33m\u001b[0m\u001b[0m\n",
      "\u001b[1;32mC:\\ProgramData\\Anaconda3\\lib\\site-packages\\requests\\sessions.py\u001b[0m in \u001b[0;36mprepare_request\u001b[1;34m(self, request)\u001b[0m\n\u001b[0;32m    447\u001b[0m \u001b[1;33m\u001b[0m\u001b[0m\n\u001b[0;32m    448\u001b[0m         \u001b[0mp\u001b[0m \u001b[1;33m=\u001b[0m \u001b[0mPreparedRequest\u001b[0m\u001b[1;33m(\u001b[0m\u001b[1;33m)\u001b[0m\u001b[1;33m\u001b[0m\u001b[1;33m\u001b[0m\u001b[0m\n\u001b[1;32m--> 449\u001b[1;33m         p.prepare(\n\u001b[0m\u001b[0;32m    450\u001b[0m             \u001b[0mmethod\u001b[0m\u001b[1;33m=\u001b[0m\u001b[0mrequest\u001b[0m\u001b[1;33m.\u001b[0m\u001b[0mmethod\u001b[0m\u001b[1;33m.\u001b[0m\u001b[0mupper\u001b[0m\u001b[1;33m(\u001b[0m\u001b[1;33m)\u001b[0m\u001b[1;33m,\u001b[0m\u001b[1;33m\u001b[0m\u001b[1;33m\u001b[0m\u001b[0m\n\u001b[0;32m    451\u001b[0m             \u001b[0murl\u001b[0m\u001b[1;33m=\u001b[0m\u001b[0mrequest\u001b[0m\u001b[1;33m.\u001b[0m\u001b[0murl\u001b[0m\u001b[1;33m,\u001b[0m\u001b[1;33m\u001b[0m\u001b[1;33m\u001b[0m\u001b[0m\n",
      "\u001b[1;32mC:\\ProgramData\\Anaconda3\\lib\\site-packages\\requests\\models.py\u001b[0m in \u001b[0;36mprepare\u001b[1;34m(self, method, url, headers, files, data, params, auth, cookies, hooks, json)\u001b[0m\n\u001b[0;32m    312\u001b[0m \u001b[1;33m\u001b[0m\u001b[0m\n\u001b[0;32m    313\u001b[0m         \u001b[0mself\u001b[0m\u001b[1;33m.\u001b[0m\u001b[0mprepare_method\u001b[0m\u001b[1;33m(\u001b[0m\u001b[0mmethod\u001b[0m\u001b[1;33m)\u001b[0m\u001b[1;33m\u001b[0m\u001b[1;33m\u001b[0m\u001b[0m\n\u001b[1;32m--> 314\u001b[1;33m         \u001b[0mself\u001b[0m\u001b[1;33m.\u001b[0m\u001b[0mprepare_url\u001b[0m\u001b[1;33m(\u001b[0m\u001b[0murl\u001b[0m\u001b[1;33m,\u001b[0m \u001b[0mparams\u001b[0m\u001b[1;33m)\u001b[0m\u001b[1;33m\u001b[0m\u001b[1;33m\u001b[0m\u001b[0m\n\u001b[0m\u001b[0;32m    315\u001b[0m         \u001b[0mself\u001b[0m\u001b[1;33m.\u001b[0m\u001b[0mprepare_headers\u001b[0m\u001b[1;33m(\u001b[0m\u001b[0mheaders\u001b[0m\u001b[1;33m)\u001b[0m\u001b[1;33m\u001b[0m\u001b[1;33m\u001b[0m\u001b[0m\n\u001b[0;32m    316\u001b[0m         \u001b[0mself\u001b[0m\u001b[1;33m.\u001b[0m\u001b[0mprepare_cookies\u001b[0m\u001b[1;33m(\u001b[0m\u001b[0mcookies\u001b[0m\u001b[1;33m)\u001b[0m\u001b[1;33m\u001b[0m\u001b[1;33m\u001b[0m\u001b[0m\n",
      "\u001b[1;32mC:\\ProgramData\\Anaconda3\\lib\\site-packages\\requests\\models.py\u001b[0m in \u001b[0;36mprepare_url\u001b[1;34m(self, url, params)\u001b[0m\n\u001b[0;32m    386\u001b[0m             \u001b[0merror\u001b[0m \u001b[1;33m=\u001b[0m \u001b[0merror\u001b[0m\u001b[1;33m.\u001b[0m\u001b[0mformat\u001b[0m\u001b[1;33m(\u001b[0m\u001b[0mto_native_string\u001b[0m\u001b[1;33m(\u001b[0m\u001b[0murl\u001b[0m\u001b[1;33m,\u001b[0m \u001b[1;34m'utf8'\u001b[0m\u001b[1;33m)\u001b[0m\u001b[1;33m)\u001b[0m\u001b[1;33m\u001b[0m\u001b[1;33m\u001b[0m\u001b[0m\n\u001b[0;32m    387\u001b[0m \u001b[1;33m\u001b[0m\u001b[0m\n\u001b[1;32m--> 388\u001b[1;33m             \u001b[1;32mraise\u001b[0m \u001b[0mMissingSchema\u001b[0m\u001b[1;33m(\u001b[0m\u001b[0merror\u001b[0m\u001b[1;33m)\u001b[0m\u001b[1;33m\u001b[0m\u001b[1;33m\u001b[0m\u001b[0m\n\u001b[0m\u001b[0;32m    389\u001b[0m \u001b[1;33m\u001b[0m\u001b[0m\n\u001b[0;32m    390\u001b[0m         \u001b[1;32mif\u001b[0m \u001b[1;32mnot\u001b[0m \u001b[0mhost\u001b[0m\u001b[1;33m:\u001b[0m\u001b[1;33m\u001b[0m\u001b[1;33m\u001b[0m\u001b[0m\n",
      "\u001b[1;31mMissingSchema\u001b[0m: Invalid URL 'None': No schema supplied. Perhaps you meant http://None?"
     ]
    }
   ],
   "source": [
    "import requests\n",
    "requests.get(None)"
   ]
  },
  {
   "cell_type": "markdown",
   "metadata": {},
   "source": [
    "При отладке приложения нас могут интересовать, например, локальные переменные какой-то функции в момент исполнения. Когда мы получаем исключение, получить доступ к последнему фрейму достаточно легко:"
   ]
  },
  {
   "cell_type": "code",
   "execution_count": 33,
   "metadata": {},
   "outputs": [
    {
     "data": {
      "text/plain": [
       "<traceback at 0x1f3a31bdc80>"
      ]
     },
     "execution_count": 33,
     "metadata": {},
     "output_type": "execute_result"
    }
   ],
   "source": [
    "import sys\n",
    "tb = sys.last_traceback\n",
    "tb"
   ]
  },
  {
   "cell_type": "code",
   "execution_count": 34,
   "metadata": {},
   "outputs": [
    {
     "data": {
      "text/plain": [
       "<frame at 0x000001F3A1AE1020, file 'C:\\\\ProgramData\\\\Anaconda3\\\\lib\\\\site-packages\\\\IPython\\\\core\\\\interactiveshell.py', line 3363, code run_code>"
      ]
     },
     "execution_count": 34,
     "metadata": {},
     "output_type": "execute_result"
    }
   ],
   "source": [
    "tb.tb_frame"
   ]
  },
  {
   "cell_type": "code",
   "execution_count": 35,
   "metadata": {},
   "outputs": [
    {
     "data": {
      "text/plain": [
       "{'self': <ipykernel.zmqshell.ZMQInteractiveShell at 0x1f3a1e4fb80>,\n",
       " 'code_obj': <code object <module> at 0x000001F3A3966710, file \"<ipython-input-32-77659fbd64d3>\", line 2>,\n",
       " 'result': <ExecutionResult object at 1f3a2fdd880, execution_count=32 error_before_exec=None error_in_exec=Invalid URL 'None': No schema supplied. Perhaps you meant http://None? info=<ExecutionInfo object at 1f3a2fdd700, raw_cell=\"import requests\n",
       " requests.get(None)\" store_history=True silent=False shell_futures=True> result=None>,\n",
       " 'async_': False,\n",
       " '__tracebackhide__': '__ipython_bottom__',\n",
       " 'old_excepthook': <bound method IPKernelApp.excepthook of <ipykernel.kernelapp.IPKernelApp object at 0x000001F39DA70AF0>>,\n",
       " 'outflag': True}"
      ]
     },
     "execution_count": 35,
     "metadata": {},
     "output_type": "execute_result"
    }
   ],
   "source": [
    "tb.tb_frame.f_locals"
   ]
  },
  {
   "cell_type": "markdown",
   "metadata": {},
   "source": [
    "Но каждый раз принудительно бросать исключение для того, чтобы что-то посмотреть, накладно. Нужно как-то по-другому получить ссылку на фрейм."
   ]
  },
  {
   "cell_type": "code",
   "execution_count": 36,
   "metadata": {},
   "outputs": [
    {
     "data": {
      "text/plain": [
       "<frame at 0x000001F3A396F1D0, file '<ipython-input-36-249520cb4acc>', line 1, code <module>>"
      ]
     },
     "execution_count": 36,
     "metadata": {},
     "output_type": "execute_result"
    }
   ],
   "source": [
    "inspect.currentframe()"
   ]
  },
  {
   "cell_type": "markdown",
   "metadata": {},
   "source": [
    "Это текущий фрейм. А что если мы хотим получить предыдущий по стеку вызовов фрейм? Для этого у нас есть метод `inspect.stack()`"
   ]
  },
  {
   "cell_type": "code",
   "execution_count": 37,
   "metadata": {},
   "outputs": [
    {
     "name": "stdout",
     "output_type": "stream",
     "text": [
      "Название предыдущего фрейма: a\n",
      "Название предыдущего фрейма: a\n",
      "Название предыдущего фрейма: a\n",
      "Название предыдущего фрейма: b\n",
      "Название предыдущего фрейма: <module>\n",
      "Название предыдущего фрейма: run_code\n",
      "Название предыдущего фрейма: run_ast_nodes\n",
      "Название предыдущего фрейма: run_cell_async\n",
      "Название предыдущего фрейма: _pseudo_sync_runner\n",
      "Название предыдущего фрейма: _run_cell\n",
      "Название предыдущего фрейма: run_cell\n",
      "Название предыдущего фрейма: run_cell\n",
      "Название предыдущего фрейма: do_execute\n",
      "Название предыдущего фрейма: wrapper\n",
      "Название предыдущего фрейма: execute_request\n",
      "Название предыдущего фрейма: wrapper\n",
      "Название предыдущего фрейма: dispatch_shell\n",
      "Название предыдущего фрейма: wrapper\n",
      "Название предыдущего фрейма: process_one\n",
      "Название предыдущего фрейма: run\n",
      "Название предыдущего фрейма: inner\n",
      "Название предыдущего фрейма: _run_callback\n",
      "Название предыдущего фрейма: <lambda>\n",
      "Название предыдущего фрейма: _run\n",
      "Название предыдущего фрейма: _run_once\n",
      "Название предыдущего фрейма: run_forever\n",
      "Название предыдущего фрейма: start\n",
      "Название предыдущего фрейма: start\n",
      "Название предыдущего фрейма: launch_instance\n",
      "Название предыдущего фрейма: <module>\n",
      "Название предыдущего фрейма: _run_code\n",
      "\n",
      "FrameInfo(frame=<frame at 0x000001F3A39F1DC0, file '<ipython-input-37-bf5f8cc5c7c3>', line 11, code a>, filename='<ipython-input-37-bf5f8cc5c7c3>', lineno=11, function='a', code_context=['        print(inspect.stack()[0])\\n'], index=0)\n",
      "FrameInfo(frame=<frame at 0x000001F3A39F1C10, file '<ipython-input-37-bf5f8cc5c7c3>', line 3, code a>, filename='<ipython-input-37-bf5f8cc5c7c3>', lineno=3, function='a', code_context=['        a(i + 1)\\n'], index=0)\n",
      "FrameInfo(frame=<frame at 0x000001F3A39F1A60, file '<ipython-input-37-bf5f8cc5c7c3>', line 3, code a>, filename='<ipython-input-37-bf5f8cc5c7c3>', lineno=3, function='a', code_context=['        a(i + 1)\\n'], index=0)\n",
      "FrameInfo(frame=<frame at 0x000001F3A396F4F0, file '<ipython-input-37-bf5f8cc5c7c3>', line 19, code b>, filename='<ipython-input-37-bf5f8cc5c7c3>', lineno=19, function='b', code_context=['    a(1)\\n'], index=0)\n"
     ]
    }
   ],
   "source": [
    "def a(i):\n",
    "    if i < 3:\n",
    "        a(i + 1)\n",
    "    else:\n",
    "        frame = inspect.currentframe()\n",
    "        # пройдемся рекурсивно по всем предыдущим фреймам\n",
    "        while frame.f_back:\n",
    "            print(\"Название предыдущего фрейма:\", frame.f_code.co_name)\n",
    "            frame = frame.f_back\n",
    "        print()\n",
    "        print(inspect.stack()[0])\n",
    "        print(inspect.stack()[1])\n",
    "        print(inspect.stack()[2])\n",
    "        print(inspect.stack()[3])\n",
    "        \n",
    "        \n",
    "\n",
    "def b():\n",
    "    a(1)\n",
    "    \n",
    "b()"
   ]
  },
  {
   "cell_type": "markdown",
   "metadata": {},
   "source": [
    "`inspect.stack()` возвращает стек вызовов вплоть до текущей функции. Через него можно смотреть информацию о предыдущих фреймах. Кстати, лямбды - это, конечно, тоже отдельные фреймы"
   ]
  },
  {
   "cell_type": "code",
   "execution_count": 38,
   "metadata": {},
   "outputs": [
    {
     "name": "stdout",
     "output_type": "stream",
     "text": [
      "FrameInfo(frame=<frame at 0x000001F3A1AD3970, file '<ipython-input-38-7e5b047d7f4e>', line 1, code <lambda>>, filename='<ipython-input-38-7e5b047d7f4e>', lineno=1, function='<lambda>', code_context=['(lambda: print(inspect.stack()[0]))()\\n'], index=0)\n"
     ]
    }
   ],
   "source": [
    "(lambda: print(inspect.stack()[0]))()"
   ]
  },
  {
   "cell_type": "code",
   "execution_count": 39,
   "metadata": {},
   "outputs": [
    {
     "name": "stdout",
     "output_type": "stream",
     "text": [
      "FrameInfo(frame=<frame at 0x000001F3A1AB99B0, file '<ipython-input-39-dfd1f235c76e>', line 1, code <module>>, filename='<ipython-input-39-dfd1f235c76e>', lineno=1, function='<module>', code_context=['(lambda: print(inspect.stack()[1]))()\\n'], index=0)\n"
     ]
    }
   ],
   "source": [
    "(lambda: print(inspect.stack()[1]))()"
   ]
  },
  {
   "cell_type": "code",
   "execution_count": 40,
   "metadata": {},
   "outputs": [
    {
     "name": "stdout",
     "output_type": "stream",
     "text": [
      "FrameInfo(frame=<frame at 0x000001F3A1AE1920, file 'C:\\\\ProgramData\\\\Anaconda3\\\\lib\\\\site-packages\\\\IPython\\\\core\\\\interactiveshell.py', line 3343, code run_code>, filename='C:\\\\ProgramData\\\\Anaconda3\\\\lib\\\\site-packages\\\\IPython\\\\core\\\\interactiveshell.py', lineno=3343, function='run_code', code_context=['                    exec(code_obj, self.user_global_ns, self.user_ns)\\n'], index=0)\n"
     ]
    }
   ],
   "source": [
    "(lambda: print(inspect.stack()[2]))()"
   ]
  },
  {
   "cell_type": "code",
   "execution_count": 41,
   "metadata": {},
   "outputs": [
    {
     "name": "stdout",
     "output_type": "stream",
     "text": [
      "FrameInfo(frame=<frame at 0x000001F3A0333A70, file 'C:\\\\ProgramData\\\\Anaconda3\\\\lib\\\\site-packages\\\\IPython\\\\core\\\\interactiveshell.py', line 3263, code run_ast_nodes>, filename='C:\\\\ProgramData\\\\Anaconda3\\\\lib\\\\site-packages\\\\IPython\\\\core\\\\interactiveshell.py', lineno=3263, function='run_ast_nodes', code_context=['                    if (await self.run_code(code, result,  async_=asy)):\\n'], index=0)\n"
     ]
    }
   ],
   "source": [
    "(lambda: print(inspect.stack()[3]))()"
   ]
  },
  {
   "cell_type": "code",
   "execution_count": null,
   "metadata": {},
   "outputs": [],
   "source": []
  }
 ],
 "metadata": {
  "kernelspec": {
   "display_name": "Python 3",
   "language": "python",
   "name": "python3"
  },
  "language_info": {
   "codemirror_mode": {
    "name": "ipython",
    "version": 3
   },
   "file_extension": ".py",
   "mimetype": "text/x-python",
   "name": "python",
   "nbconvert_exporter": "python",
   "pygments_lexer": "ipython3",
   "version": "3.8.3"
  }
 },
 "nbformat": 4,
 "nbformat_minor": 2
}
