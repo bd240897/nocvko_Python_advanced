{
 "cells": [
  {
   "cell_type": "markdown",
   "metadata": {},
   "source": [
    "# Контекстные менеджеры\n",
    "\n",
    "https://pavel-karateev.gitbook.io/intermediate-python/sintaksis/context_managers\n",
    "\n",
    "Иногда при работе с какими-то сущностями нужно корректно обработать их закрытие в любом случае, даже при возникновении исключения. Классический пример - любой открытый файловый дескриптор нужно закрыть, во избежание блокировки ресурса. Для удобства этого в Python 2.5 появились контекстные менеджеры."
   ]
  },
  {
   "cell_type": "code",
   "execution_count": 1,
   "metadata": {},
   "outputs": [
    {
     "name": "stdout",
     "output_type": "stream",
     "text": [
      "<_io.TextIOWrapper name='some_file.txt' mode='w' encoding='cp1251'>\n"
     ]
    }
   ],
   "source": [
    "with open(\"some_file.txt\", 'w') as f:\n",
    "    print(f)"
   ]
  },
  {
   "cell_type": "markdown",
   "metadata": {},
   "source": [
    "В предыдущем примере функция `open` возвращает объект контекстного менеджера `TextIOWrapper`. Интерфейс контекстного менеджера следующий:\n",
    "\n",
    "- `__enter__(self)` - метод, который вызывается в начале работы с контекстным менеджером. Должен возвращать сам контекстный менеджер\n",
    "- `__exit__(self, type, value, traceback)` - метод, в котором описываются действия в конце работы с контекстным менеджером"
   ]
  },
  {
   "cell_type": "code",
   "execution_count": 2,
   "metadata": {},
   "outputs": [
    {
     "name": "stdout",
     "output_type": "stream",
     "text": [
      "Сработал деструктор\n"
     ]
    }
   ],
   "source": [
    "class File(object):\n",
    "    def __init__(self, file_name, method):\n",
    "        self.file_obj = open(file_name, method, encoding='utf-8')\n",
    "        \n",
    "    def __enter__(self):\n",
    "        return self.file_obj\n",
    "    \n",
    "    def __exit__(self, type_, value, traceback):\n",
    "        self.file_obj.close()\n",
    "        \n",
    "    def __del__(self):\n",
    "        print(\"Сработал деструктор\")\n",
    "        \n",
    "\n",
    "with File('demo.txt', 'w') as opened_file:\n",
    "    opened_file.write('Привет!')"
   ]
  },
  {
   "cell_type": "markdown",
   "metadata": {},
   "source": [
    "Алгоритм работы контекстного менеджера\n",
    "\n",
    "1. `with` сохраняет метод `__exit__` класса `File`.\n",
    "2. Следует вызов метода `__enter__` класса `File`.\n",
    "3. Метод `__enter__` открывает файл и возвращает его.\n",
    "4. Дескриптор файла передается в `opened_file`.\n",
    "5. Мы записываем информацию в файл при помощи `.write()`.\n",
    "6. `with` вызывает сохраненный `__exit__` метод.\n",
    "7. Метод `__exit__` закрывает файл.\n",
    "8. Объект контекстного менеджера удаляется.\n",
    "\n",
    "### Обработка исключений в контекстном менеджере\n",
    "\n",
    "Иногда в зависимости от типа ошибки, которая произошла при выполнении кода внутри контекстного менеджера, нужно по-разному завершать работу с контекстным менеджером. Для этого как раз существуют параметры `type, value, traceback` метода `__exit__`"
   ]
  },
  {
   "cell_type": "code",
   "execution_count": 4,
   "metadata": {},
   "outputs": [
    {
     "name": "stdout",
     "output_type": "stream",
     "text": [
      "Исключение было обработано\n",
      "Сработал деструктор\n"
     ]
    }
   ],
   "source": [
    "class File(object):\n",
    "    def __init__(self, file_name, method):\n",
    "        self.file_obj = open(file_name, method)\n",
    "        \n",
    "    def __enter__(self):\n",
    "        return self.file_obj\n",
    "    \n",
    "    def __exit__(self, type_, value, traceback):\n",
    "        print(\"Исключение было обработано\")\n",
    "        self.file_obj.close()\n",
    "        return True\n",
    "    \n",
    "    def __del__(self):\n",
    "        print(\"Сработал деструктор\")\n",
    "\n",
    "    \n",
    "with File('demo.txt', 'w') as opened_file:\n",
    "    opened_file.undefined_function()"
   ]
  },
  {
   "cell_type": "markdown",
   "metadata": {},
   "source": [
    "Алгоритм обработки исключений\n",
    "\n",
    "1. Тип, значение и обратная трассировка ошибки передается в метод `__exit__`.\n",
    "2. Обработка исключения передается методу `__exit__`\n",
    "3. Если `__exit__` возвращает `True`, то исключение было корректно обработано.\n",
    "4. При возврате любого другого значения `with` вызывает исключение."
   ]
  },
  {
   "cell_type": "markdown",
   "metadata": {},
   "source": [
    "## Contextlib\n",
    "\n",
    "Есть еще более компактный способ создания контекстных менеджеров - через функцию-генератор."
   ]
  },
  {
   "cell_type": "code",
   "execution_count": 5,
   "metadata": {},
   "outputs": [],
   "source": [
    "from contextlib import contextmanager\n",
    "\n",
    "\n",
    "@contextmanager\n",
    "def open_file(name):\n",
    "    # код, который мы бы записали в __enter__\n",
    "    f = open(name, 'w')\n",
    "    yield f\n",
    "    # код, который мы бы записали в __exit__\n",
    "    f.close()\n",
    "    \n",
    "\n",
    "with open_file('demo.txt') as f:\n",
    "    f.write(\"contextlib\")"
   ]
  },
  {
   "cell_type": "markdown",
   "metadata": {},
   "source": [
    "## Задание\n",
    "\n",
    "Написать контекстный менеджер `Timer`, который после выполнения кода внутри своего блока будет выводить на экран свое название, полученное в конструкторе, и количество секунд (целое число), которое этот блок выполняется. Если во время выполнения кода возникает исключение, на экран вместо секунд нужно вывести строку `EXCEPTION`. Кроме того, объект, передаваемый в блок контекстного менеджера должен быть вызываемым и по вызову возвращать текущее количество секунд, прошедшее с начала исполнения блока.\n",
    "\n",
    "#### Пример использования:\n",
    "\n",
    "<code>import time\n",
    "\n",
    "\n",
    "with Timer(\"timer_name\") as timer:\n",
    "    time.sleep(2)\n",
    "    print(timer())\n",
    "    time.sleep(2)</code>\n",
    "\n",
    "Вывод этого кода:\n",
    "\n",
    "<code>2\n",
    "timer_name 4</code>\n",
    "\n",
    "#### Пример с вызовом исключения:\n",
    "\n",
    "<code>with Timer(\"timer_name\") as timer:\n",
    "    1 / 0</code>\n",
    "    \n",
    "Вывод для этого кода:\n",
    "\n",
    "<code>EXCEPTION</code>"
   ]
  }
 ],
 "metadata": {
  "kernelspec": {
   "display_name": "Python 3",
   "language": "python",
   "name": "python3"
  },
  "language_info": {
   "codemirror_mode": {
    "name": "ipython",
    "version": 3
   },
   "file_extension": ".py",
   "mimetype": "text/x-python",
   "name": "python",
   "nbconvert_exporter": "python",
   "pygments_lexer": "ipython3",
   "version": "3.8.3"
  }
 },
 "nbformat": 4,
 "nbformat_minor": 2
}
